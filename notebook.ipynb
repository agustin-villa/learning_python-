{
 "cells": [
  {
   "cell_type": "markdown",
   "metadata": {},
   "source": [
    "# Python 3  Agustin Villa 4/8/2024\n",
    "In this notebook you will find the examples used to learn Python (Codecademy: Learn Python 3)"
   ]
  },
  {
   "cell_type": "markdown",
   "metadata": {},
   "source": [
    "#### Hello World"
   ]
  },
  {
   "cell_type": "code",
   "execution_count": 2,
   "metadata": {
    "jupyter": {
     "is_executing": true
    }
   },
   "outputs": [],
   "source": [
    "# This is a python comment, can be used to explain your code "
   ]
  },
  {
   "cell_type": "code",
   "execution_count": 3,
   "metadata": {},
   "outputs": [
    {
     "name": "stdout",
     "output_type": "stream",
     "text": [
      "Hello world!\n"
     ]
    }
   ],
   "source": [
    "# Print the distinguished greeting “Hello world!”\n",
    "print(\"Hello world!\")"
   ]
  },
  {
   "cell_type": "code",
   "execution_count": 4,
   "metadata": {},
   "outputs": [
    {
     "name": "stdout",
     "output_type": "stream",
     "text": [
      "Agustin Villa\n"
     ]
    }
   ],
   "source": [
    "# Print your name using the print() command.\n",
    "print(\"Agustin Villa\")"
   ]
  },
  {
   "cell_type": "markdown",
   "metadata": {},
   "source": [
    "SyntaxError: means there is something wrong with the way your program is written — punctuation that does not belong, a command where it is not expected, or a missing parenthesis can all trigger a SyntaxError\n",
    "\n",
    "NameError: occurs when the Python interpreter sees a word it does not recognize. Code that contains something that looks like a variable but was never defined will throw a NameError\n",
    "\n",
    "ZeroDivisionError: Python will raise this error when attempting to divide by 0"
   ]
  },
  {
   "cell_type": "code",
   "execution_count": 5,
   "metadata": {},
   "outputs": [
    {
     "name": "stdout",
     "output_type": "stream",
     "text": [
      "1700.4642857142858\n"
     ]
    }
   ],
   "source": [
    "#Print out the result of this equation: 25 * 68 + 13 / 28\n",
    "print(25 * 68 + 13 / 28)"
   ]
  },
  {
   "cell_type": "code",
   "execution_count": 6,
   "metadata": {},
   "outputs": [
    {
     "name": "stdout",
     "output_type": "stream",
     "text": [
      "96\n",
      "64\n"
     ]
    }
   ],
   "source": [
    "'''\n",
    "You’ve decided to get into quilting! To calculate the number of squares you’ll need for your first quilt let’s create two variables: quilt_width and quilt_length. Let’s make this first quilt 8 squares wide and 12 squares long.\n",
    "'''\n",
    "quilt_width = 8\n",
    "quilt_length = 12\n",
    "\n",
    "# Print out the number of squares you’ll need to create the quilt!\n",
    "print(quilt_width * quilt_length)\n",
    "\n",
    "'''\n",
    "It turns out that quilt required a little more material than you have on hand! Let’s only make the quilt 8 squares long. How many squares will you need for this quilt instead?\n",
    "'''\n",
    "quilt_length = 8\n",
    "print(quilt_width * quilt_length)"
   ]
  },
  {
   "cell_type": "code",
   "execution_count": 7,
   "metadata": {},
   "outputs": [
    {
     "name": "stdout",
     "output_type": "stream",
     "text": [
      "36\n",
      "49\n",
      "64\n",
      "1296\n"
     ]
    }
   ],
   "source": [
    "'''\n",
    "You really like how the square quilts from last exercise came out, and decide that all quilts that you make will be square from now on.\n",
    "\n",
    "Using the exponent operator, print out how many squares you’ll need for a 6x6 quilt, a 7x7 quilt, and an 8x8 quilt.\n",
    "'''\n",
    "\n",
    "# Calculation of squares for:\n",
    "# 6x6 quilt\n",
    "print(6**2)\n",
    "# 7x7 quilt\n",
    "print(7**2)\n",
    "# 8x8 quilt\n",
    "print(8**2)\n",
    "\n",
    "'''\n",
    "Your 6x6 quilts have become so popular that 6 people have each requested 6 quilts. Print out how many total tiles you would need to make 6 6x6 quilts for 6 people.\n",
    "'''\n",
    "# How many squares for 6 people to have 6 quilts each that are 6x6?\n",
    "print(6*6*(6**2))"
   ]
  },
  {
   "cell_type": "code",
   "execution_count": 8,
   "metadata": {},
   "outputs": [
    {
     "name": "stdout",
     "output_type": "stream",
     "text": [
      "10\n"
     ]
    }
   ],
   "source": [
    "'''\n",
    "You are starting a new campaign for your online shop where every 11th customer gets 11% off of their next order. For ease, you decide that order numbers that are divisible by 11 will receive the coupon.\n",
    "\n",
    "Here comes order #263! Find the remainder by calculating 263 modulo 11 and store the result in a variable called order_263_r.\n",
    "\n",
    "Print out order_263_r.\n",
    "'''\n",
    "\n",
    "order_263_r = 263%11\n",
    "print(order_263_r)"
   ]
  },
  {
   "cell_type": "code",
   "execution_count": 9,
   "metadata": {},
   "outputs": [
    {
     "name": "stdout",
     "output_type": "stream",
     "text": [
      "The wind, which had hitherto carried us along with amazing rapidity, sank at sunset to a light breeze; the soft air just ruffled the water and caused a pleasant motion among the trees as we approached the shore, from which it wafted the most delightful scent of flowers and hay.\n"
     ]
    }
   ],
   "source": [
    "'''\n",
    "Concatenate the strings and save the message they form in the variable message.\n",
    "\n",
    "Now uncomment the print statement and run your code to see the result in the terminal!\n",
    "'''\n",
    "string1 = \"The wind, \"\n",
    "string2 = \"which had hitherto carried us along with amazing rapidity, \"\n",
    "string3 = \"sank at sunset to a light breeze; \"\n",
    "string4 = \"the soft air just ruffled the water and \"\n",
    "string5 = \"caused a pleasant motion among the trees as we approached the shore, \"\n",
    "string6 = \"from which it wafted the most delightful scent of flowers and hay.\"\n",
    "\n",
    "# Define message below:\n",
    "message = string1+string2+string3+string4+string5+string6\n",
    "\n",
    "print(message)"
   ]
  },
  {
   "cell_type": "code",
   "execution_count": 10,
   "metadata": {},
   "outputs": [
    {
     "name": "stdout",
     "output_type": "stream",
     "text": [
      "The total price is 109.0\n"
     ]
    }
   ],
   "source": [
    "'''\n",
    "We’re doing a little bit of online shopping and find a pair of new sneakers. Right before we check out, we spot a nice sweater and some fun books we also want to purchase!\n",
    "\n",
    "Use the += operator to update the total_price to include the prices of nice_sweater and fun_books.\n",
    "'''\n",
    "total_price = 0\n",
    "\n",
    "new_sneakers = 50.00\n",
    "\n",
    "total_price += new_sneakers\n",
    "\n",
    "nice_sweater = 39.00\n",
    "fun_books = 20.00\n",
    "# Update total_price here:\n",
    "total_price += nice_sweater + fun_books\n",
    "print(\"The total price is\", total_price)"
   ]
  },
  {
   "cell_type": "code",
   "execution_count": 1,
   "metadata": {},
   "outputs": [
    {
     "name": "stdout",
     "output_type": "stream",
     "text": [
      "What is your name: Agustin\n",
      "Agustin\n"
     ]
    }
   ],
   "source": [
    "# How to store user input\n",
    "name = input(\"What is your name: \")\n",
    "print(name)"
   ]
  },
  {
   "cell_type": "markdown",
   "metadata": {},
   "source": [
    "#### Control Flow"
   ]
  },
  {
   "cell_type": "code",
   "execution_count": 3,
   "metadata": {},
   "outputs": [
    {
     "name": "stdout",
     "output_type": "stream",
     "text": [
      "<class 'str'>\n",
      "<class 'bool'>\n"
     ]
    }
   ],
   "source": [
    "\"\"\"\n",
    "Create a variable named my_baby_bool and set it equal to the string \"true\".\n",
    "Check the type of my_baby_bool using type(my_baby_bool).\n",
    "You’ll have to print it to get the results to display in the terminal.\n",
    "\"\"\"\n",
    "my_baby_bool  = \"true\"\n",
    "print(type(my_baby_bool))\n",
    "\n",
    "\"\"\"\n",
    "Create a variable named my_baby_bool_two and set it equal to True.\n",
    "You’ll have to print it to get the results to display in the terminal.\n",
    "\"\"\"\n",
    "my_baby_bool_two = True\n",
    "print(type(my_baby_bool_two))"
   ]
  },
  {
   "cell_type": "code",
   "execution_count": 7,
   "metadata": {},
   "outputs": [
    {
     "name": "stdout",
     "output_type": "stream",
     "text": [
      "These numbers are the same\n",
      "You have enough credits to graduate!\n",
      "You meet the requirements to graduate!\n",
      "You have met at least one of the requirements.\n",
      "You do not meet the requirements to graduate.\n"
     ]
    }
   ],
   "source": [
    "x = 20\n",
    "y = 20\n",
    "\n",
    "# Write the first if statement here:\n",
    "\"\"\"\n",
    "Create an if statement that checks if x and y are equal, print the string below if so:\n",
    "\"\"\"\n",
    "if(x ==y):\n",
    "  print(\"These numbers are the same\")\n",
    "\n",
    "\"\"\"\n",
    "The nearby college, Calvin Coolidge’s Cool College (or 4C, as the locals call it) requires students to earn 120 credits to graduate.\n",
    "\n",
    "Write an if statement that checks if the student has enough credits to graduate. If they do, print the string:\n",
    "\"\"\"\n",
    "credits = 120\n",
    "gpa = 3.4\n",
    "\n",
    "# Write the second if statement here:\n",
    "if (credits >= 120):\n",
    "  print(\"You have enough credits to graduate!\")\n",
    "\n",
    "\"\"\"\n",
    " 120 credits aren’t the only graduation requirement, you also need to have a GPA of 2.0 or higher\n",
    "\"\"\"\n",
    "if credits >= 120 and gpa >= 2.0 :\n",
    "  print(\"You meet the requirements to graduate!\")\n",
    "\n",
    "\"\"\"\n",
    "Write an if statement that checks if a student either has 120 or more credits or a GPA 2.0 or higher, and if so prints:\n",
    "\"\"\"\n",
    "if (credits >= 120 or gpa >= 2.0):\n",
    "  print(\"You have met at least one of the requirements.\")\n",
    "\n",
    "\"\"\"\n",
    "If a student is failing to meet one or both graduation requirements, they want it to print:\n",
    "\"\"\"\n",
    "credits = 120\n",
    "gpa = 1.9\n",
    "\n",
    "if (credits >= 120) and (gpa >= 2.0):\n",
    "  print(\"You meet the requirements to graduate!\")\n",
    "else:\n",
    "  print(\"You do not meet the requirements to graduate.\")"
   ]
  },
  {
   "cell_type": "code",
   "execution_count": 8,
   "metadata": {},
   "outputs": [
    {
     "name": "stdout",
     "output_type": "stream",
     "text": [
      "B\n"
     ]
    }
   ],
   "source": [
    "\"\"\"\n",
    "Calvin Coolidge’s Cool College has noticed that students prefer to get letter grades.\n",
    "\n",
    "Write an if/elif/else statement that:\n",
    "\n",
    "    If grade is 90 or higher, print \"A\"\n",
    "    Else if grade is 80 or higher, print \"B\"\n",
    "    Else if grade is 70 or higher, print \"C\"\n",
    "    Else if grade is 60 or higher, print \"D\"\n",
    "    Else, print \"F\"\n",
    "\n",
    "\"\"\"\n",
    "grade = 86\n",
    "\n",
    "if grade >= 90:\n",
    "  print(\"A\")\n",
    "elif grade >= 80:\n",
    "  print(\"B\")\n",
    "elif grade >= 70:\n",
    "  print(\"C\")\n",
    "elif grade >= 60:\n",
    "  print(\"D\")\n",
    "else:\n",
    "  print(\"F\")"
   ]
  },
  {
   "cell_type": "code",
   "execution_count": 11,
   "metadata": {},
   "outputs": [
    {
     "name": "stdout",
     "output_type": "stream",
     "text": [
      "False\n"
     ]
    }
   ],
   "source": [
    "x =  3 ** 2 + 1 != 30 / 3\n",
    "print(x)"
   ]
  },
  {
   "cell_type": "markdown",
   "metadata": {},
   "source": [
    "#### Lists "
   ]
  },
  {
   "cell_type": "code",
   "execution_count": 13,
   "metadata": {},
   "outputs": [
    {
     "name": "stdout",
     "output_type": "stream",
     "text": [
      "['Sam', 67, 85.5, True]\n"
     ]
    }
   ],
   "source": [
    "\"\"\"\n",
    "Create a new list called sam_height_and_testscore that contains:\n",
    "\n",
    "    The string \"Sam\" (to represent Sam’s name)\n",
    "    The number 67 (to represent Sam’s height)\n",
    "    The float 85.5 (to represent Sam’s score)\n",
    "    The boolean True (to represent Sam passing the test\n",
    "\"\"\"\n",
    "sam_height_and_testscore = [\"Sam\", 67, 85.5, True]\n",
    "print(sam_height_and_testscore)"
   ]
  },
  {
   "cell_type": "code",
   "execution_count": 14,
   "metadata": {},
   "outputs": [
    {
     "name": "stdout",
     "output_type": "stream",
     "text": [
      "['daisies', 'periwinkle']\n",
      "['daisies', 'periwinkle', 'tulips', 'roses']\n"
     ]
    }
   ],
   "source": [
    "orders = [\"daisies\", \"periwinkle\"]\n",
    "print(orders)\n",
    "\n",
    "\"\"\"\n",
    "Jiho just received a new order for \"tulips\". Use append to add this string to orders.\n",
    "Another order has come in! Use append to add \"roses\" to orders.\n",
    "\"\"\"\n",
    "orders.append(\"tulips\")\n",
    "orders.append(\"roses\")\n",
    "\n",
    "print(orders)"
   ]
  },
  {
   "cell_type": "code",
   "execution_count": 17,
   "metadata": {},
   "outputs": [
    {
     "name": "stdout",
     "output_type": "stream",
     "text": [
      "['daisy', 'buttercup', 'snapdragon', 'gardenia', 'lily', 'lilac', 'iris']\n"
     ]
    }
   ],
   "source": [
    "orders = [\"daisy\", \"buttercup\", \"snapdragon\", \"gardenia\", \"lily\"]\n",
    "\"\"\"\n",
    "Jiho is updating a list of orders. He just received orders for \"lilac\" and \"iris\".\n",
    "Create a list called new_orders that contains our new orders.\n",
    "\"\"\"\n",
    "# Create new orders here:\n",
    "new_orders = [\"lilac\", \"iris\"]\n",
    "\n",
    "\"\"\"\n",
    "Use + to create a new list called orders_combined that combines orders with new_orders.\n",
    "\"\"\"\n",
    "orders_combined = orders + new_orders\n",
    "\n",
    "print(orders_combined)\n"
   ]
  },
  {
   "cell_type": "code",
   "execution_count": 19,
   "metadata": {},
   "outputs": [
    {
     "name": "stdout",
     "output_type": "stream",
     "text": [
      "Pam\n"
     ]
    }
   ],
   "source": [
    "employees = [\"Michael\", \"Dwight\", \"Jim\", \"Pam\", \"Ryan\", \"Andy\", \"Robert\"]\n",
    "\n",
    "\"\"\"\n",
    "Use square brackets ([ and ]) to access the 4th employee from the list employees. Save it to the variable employee_four\n",
    "\"\"\"\n",
    "employee_four = employees[3]\n",
    "print(employee_four)"
   ]
  },
  {
   "cell_type": "code",
   "execution_count": 20,
   "metadata": {},
   "outputs": [
    {
     "name": "stdout",
     "output_type": "stream",
     "text": [
      "cereal\n"
     ]
    }
   ],
   "source": [
    "shopping_list = [\"eggs\", \"butter\", \"milk\", \"cucumbers\", \"juice\", \"cereal\"]\n",
    "\"\"\"\n",
    "Create a variable called last_element.\n",
    "\n",
    "Assign the last element in shopping_list to the variable last_element using a negative index.\n",
    "\"\"\"\n",
    "last_element = shopping_list[-1]\n",
    "print(last_element)"
   ]
  },
  {
   "cell_type": "code",
   "execution_count": 1,
   "metadata": {},
   "outputs": [
    {
     "name": "stdout",
     "output_type": "stream",
     "text": [
      "['Jiho', 'Calla', 'Sonny', 'Alisha']\n",
      "['Jiho', 'Calla', 'Sonny', 'Alex']\n"
     ]
    }
   ],
   "source": [
    "\"\"\"\n",
    "Define a list called garden_waitlist and set the value to contain our customers (in order): \"Jiho\", \"Adam\", \"Sonny\", and \"Alisha\"\n",
    "\"\"\"\n",
    "# Your code below:\n",
    "garden_waitlist = [\"Jiho\", \"Adam\", \"Sonny\", \"Alisha\"]\n",
    "\"\"\"\n",
    "Replace \"Adam\" with our other interested customer \"Calla\" using the index method we used in the narrative.\n",
    "Print garden_waitlist to see the change! \n",
    "\"\"\"\n",
    "garden_waitlist[1] = \"Calla\"\n",
    "print(garden_waitlist)\n",
    "\"\"\"\n",
    "Replace Alisha with Alex using a negative index.\n",
    "Print garden_waitlist again to see the change! \n",
    "\"\"\"\n",
    "garden_waitlist[-1] = \"Alex\"\n",
    "print(garden_waitlist)\n"
   ]
  },
  {
   "cell_type": "code",
   "execution_count": 2,
   "metadata": {},
   "outputs": [
    {
     "name": "stdout",
     "output_type": "stream",
     "text": [
      "['Celery', 'Orange Juice', 'Orange', 'Flatbread']\n",
      "['Celery', 'Orange Juice', 'Orange']\n",
      "['Orange', 'Apple', 'Mango', 'Broccoli', 'Mango']\n",
      "['Orange', 'Apple', 'Broccoli', 'Mango']\n"
     ]
    }
   ],
   "source": [
    "order_list = [\"Celery\", \"Orange Juice\", \"Orange\", \"Flatbread\"]\n",
    "print(order_list)\n",
    "\"\"\"\n",
    "We are in luck! We actually found a spare case of \"Flatbread\" in our back storage. We won’t need to order it anymore. Let’s remove it from order_list using the .remove() method.\n",
    "Print order_list to see the current list\n",
    "\"\"\"\n",
    "order_list.remove(\"Flatbread\")\n",
    "print(order_list)\n",
    "\n",
    "new_store_order_list = [\"Orange\", \"Apple\", \"Mango\", \"Broccoli\", \"Mango\"]\n",
    "print(new_store_order_list)\n",
    "\n",
    "\"\"\"\n",
    "We are in luck again! We actually found a spare case of \"Mango\" in our back storage.\n",
    "We won’t be needing to place two orders anymore.\n",
    "Let’s remove it from new_store_order_list using the .remove() method.\n",
    "Print new_store_order_list to see the current list.\n",
    "\"\"\"\n",
    "new_store_order_list.remove(\"Mango\")\n",
    "print(new_store_order_list)"
   ]
  },
  {
   "cell_type": "code",
   "execution_count": 4,
   "metadata": {},
   "outputs": [
    {
     "name": "stdout",
     "output_type": "stream",
     "text": [
      "[['Jenny', 90], ['Alexus', 85.5], ['Sam', 83], ['Ellie', 101.5]]\n",
      "83\n",
      "101.5\n"
     ]
    }
   ],
   "source": [
    "\"\"\"\n",
    "We want to have a way to store all of our classroom test score data.\n",
    "Using the provided table, create a two-dimensional list called class_name_test to represent the data. Each sublist in class_name_test should have one student’s name and their associated score.\n",
    "Name \tTest Score\n",
    "\"Jenny\" \t90\n",
    "\"Alexus\" \t85.5\n",
    "\"Sam\" \t83\n",
    "\"Ellie\" \t101.5\n",
    "Print class_name_test to see the result.\n",
    "\"\"\"\n",
    "class_name_test = ([[\"Jenny\", 90], [\"Alexus\", 85.5], [\"Sam\", 83], [\"Ellie\", 101.5]])\n",
    "print(class_name_test)\n",
    "\"\"\"\n",
    "Use double square brackets ([][]) to select Sam‘s test score from the list class_name_test.\n",
    "Save it to the variable sams_score.\n",
    "Print the variable sams_score to see the result.\n",
    "\"\"\"\n",
    "sams_score = class_name_test[2][1]\n",
    "print(sams_score)\n",
    "\"\"\"\n",
    "Use double square brackets ([][]) to select Ellies test score from the list class_name_test. This time only use negative indices!\n",
    "Save it to the variable ellies_score.\n",
    "Print the variable ellies_score to see the result.\n",
    "\"\"\"\n",
    "ellies_score = class_name_test[-1][-1]\n",
    "print(ellies_score)"
   ]
  },
  {
   "cell_type": "code",
   "execution_count": 5,
   "metadata": {},
   "outputs": [
    {
     "name": "stdout",
     "output_type": "stream",
     "text": [
      "[['Kenny', 'American', 9], ['Tanya', 'Ukrainian', 9], ['Madison', 'Indian', 7]]\n",
      "[['Kenny', 'American', 9], ['Tanya', 'Ukrainian', 9], ['Madison', 'Indian', 8]]\n",
      "[['Ken', 'American', 9], ['Tanya', 'Ukrainian', 9], ['Madison', 'Indian', 8]]\n"
     ]
    }
   ],
   "source": [
    "\"\"\"\n",
    "Our school is expanding! We are welcoming a new set of students today from all over the world.\n",
    "\n",
    "Using the provided table, create a two-dimensional list called incoming_class to represent the data. Each sublist in incoming_class should contain the name, nationality, and grade for a single student.\n",
    "Name \tNationality \tGrade Level\n",
    "\"Kenny\" \t\"American\" \t9\n",
    "\"Tanya\" \t\"Ukrainian\" \t9\n",
    "\"Madison\" \t\"Indian\" \t7\n",
    "\n",
    "Print incoming_class to see our list.\n",
    "\"\"\"\n",
    "incoming_class = ([[\"Kenny\", \"American\", 9],[\"Tanya\", \"Ukrainian\", 9], [\"Madison\", \"Indian\", 7]])\n",
    "print(incoming_class)\n",
    "\n",
    "\"\"\"\n",
    "\"Madison\" passed an exam to advance a grade. She will be pushed into 8th grade rather than her current 7th in our list.\n",
    "\n",
    "Modify the list using double brackets [][] to make the change. Use positive indices.\n",
    "\n",
    "Print incoming_class to see our change.\n",
    "\"\"\"\n",
    "incoming_class[2][2]  = 8\n",
    "print(incoming_class)\n",
    "\"\"\"\n",
    "\"Kenny\" likes to be called by his nickname \"Ken\". Modify the list using double brackets [][] to accommodate the change but only using negative indices.\n",
    "Print incoming_class to see our change.\n",
    "\"\"\"\n",
    "incoming_class[-3][-3] = \"Ken\"\n",
    "print(incoming_class) "
   ]
  },
  {
   "cell_type": "code",
   "execution_count": 6,
   "metadata": {},
   "outputs": [
    {
     "name": "stdout",
     "output_type": "stream",
     "text": [
      "['Small', 'Large', 'Medium', 'Medium']\n",
      "[['Ainsley', 'Small', True], ['Ben', 'Large', False], ['Chani', 'Medium', True], ['Depak', 'Medium', False]]\n",
      "[['Ainsley', 'Small', True], ['Ben', 'Large'], ['Chani', 'Medium', False], ['Depak', 'Medium', False], ['Amit', 'Large', True], ['Karim', 'X-Large', False]]\n"
     ]
    }
   ],
   "source": [
    "# Creating list of first names \n",
    "first_names = [\"Ainsley\", \"Ben\", \"Chani\", \"Depak\"]\n",
    "\n",
    "# List of the preferred sizes \n",
    "preferred_size = [\"Small\", \"Large\", \"Medium\"]\n",
    "\n",
    "# Using append to add to preferred_size list \n",
    "preferred_size.append(\"Medium\")\n",
    "print(preferred_size)\n",
    "\n",
    "\n",
    "#Created 2D Array includes name, size and expedited shipping T or F\n",
    "customer_data = ([[\"Ainsley\", \"Small\", True],[\"Ben\", \"Large\", False], [\"Chani\", \"Medium\", True], [\"Depak\", \"Medium\", False]])\n",
    "print(customer_data)\n",
    "\n",
    "#Changing Chani to False expedited shipping\n",
    "customer_data[-2][-1] = False\n",
    "\n",
    "#Ben wants his shipping option removed from the list\n",
    "customer_data[1].remove(False)\n",
    "\n",
    "#Creating final list and merging customer_data with two new sublists \n",
    "customer_data_final = customer_data + [[\"Amit\", \"Large\", True], [\"Karim\", \"X-Large\", False]]\n",
    "print(customer_data_final)"
   ]
  },
  {
   "cell_type": "code",
   "execution_count": 7,
   "metadata": {},
   "outputs": [
    {
     "name": "stdout",
     "output_type": "stream",
     "text": [
      "[['physics', 98], ['calculus', 97], ['poetry', 85], ['history', 88]]\n",
      "[['physics', 98], ['calculus', 97], ['poetry', 85], ['history', 88], ['computer science', 100], ['visual science', 93]]\n",
      "[['physics', 98], ['calculus', 97], ['poetry', 85], ['history', 88], ['computer science', 100], ['visual science', 98]]\n",
      "[['physics', 98], ['calculus', 97], ['poetry', 'Pass'], ['history', 88], ['computer science', 100], ['visual science', 98]]\n",
      "[['politics', 80], ['latin', 96], ['dance', 97], ['architecture', 65], ['physics', 98], ['calculus', 97], ['poetry', 'Pass'], ['history', 88], ['computer science', 100], ['visual science', 98]]\n"
     ]
    }
   ],
   "source": [
    "last_semester_gradebook = [[\"politics\", 80], [\"latin\", 96], [\"dance\", 97], [\"architecture\", 65]]\n",
    "\n",
    "# Created two lists subjects and grades\n",
    "subjects = [\"physics\", \"calculus\", \"poetry\", \"history\"]\n",
    "grades = [98, 97, 85, 88]\n",
    "\n",
    "#Manually (without functions) created a 2D list \n",
    "gradebook = [[\"physics\", 98],[\"calculus\", 97],[\"poetry\", 85],[\"history\", 88]]\n",
    "print(gradebook)\n",
    "\n",
    "#Adding computer science and visual arts grade \n",
    "gradebook.append([\"computer science\", 100])\n",
    "gradebook.append([\"visual science\", 93])\n",
    "print(gradebook)\n",
    "\n",
    "#Adding 5 points to visual science grade \n",
    "gradebook[-1][-1] = gradebook[-1][-1] + 5\n",
    "print(gradebook)\n",
    "\n",
    "#Removing grade from Poetry\n",
    "gradebook[2].remove(85)\n",
    "#Adding Pass to poetry class \n",
    "gradebook[2].append(\"Pass\")\n",
    "print(gradebook)\n",
    "\n",
    "#Combining last_semester_gradebook and gradebook\n",
    "full_gradebook = last_semester_gradebook + gradebook\n",
    "print(full_gradebook)"
   ]
  },
  {
   "cell_type": "code",
   "execution_count": 8,
   "metadata": {},
   "outputs": [
    {
     "name": "stdout",
     "output_type": "stream",
     "text": [
      "['Mango', 'Filet Mignon', 'Chocolate Milk']\n",
      "['Pineapple', 'Mango', 'Filet Mignon', 'Chocolate Milk']\n"
     ]
    }
   ],
   "source": [
    "front_display_list = [\"Mango\", \"Filet Mignon\", \"Chocolate Milk\"]\n",
    "print(front_display_list)\n",
    "\n",
    "# Adding Pineapple to front of the list \n",
    "front_display_list.insert(0,\"Pineapple\")\n",
    "print(front_display_list)"
   ]
  },
  {
   "cell_type": "code",
   "execution_count": 9,
   "metadata": {},
   "outputs": [
    {
     "name": "stdout",
     "output_type": "stream",
     "text": [
      "['Machine Learning', 'SQL', 'Pandas', 'Algorithms', 'Statistics', 'Python 3']\n",
      "['Machine Learning', 'SQL', 'Pandas', 'Algorithms', 'Statistics']\n",
      "['Machine Learning', 'SQL', 'Pandas', 'Statistics']\n"
     ]
    }
   ],
   "source": [
    "data_science_topics = [\"Machine Learning\", \"SQL\", \"Pandas\", \"Algorithms\", \"Statistics\", \"Python 3\"]\n",
    "print(data_science_topics)\n",
    "\n",
    "# Removing Python 3\n",
    "data_science_topics.pop()\n",
    "print(data_science_topics)\n",
    "\n",
    "#Removing Algorithms\n",
    "data_science_topics.pop(3)\n",
    "print(data_science_topics)"
   ]
  },
  {
   "cell_type": "code",
   "execution_count": 10,
   "metadata": {},
   "outputs": [
    {
     "name": "stdout",
     "output_type": "stream",
     "text": [
      "[0, 1, 2, 3, 4, 5, 6, 7, 8]\n",
      "[0, 1, 2, 3, 4, 5, 6, 7]\n"
     ]
    }
   ],
   "source": [
    "#Creates range object from 0-8 the list() function makes it into a list \n",
    "number_list = range(9)\n",
    "print(list(number_list))\n",
    "\n",
    "\n",
    "zero_to_seven = range(8)\n",
    "print(list(zero_to_seven))"
   ]
  },
  {
   "cell_type": "code",
   "execution_count": 11,
   "metadata": {},
   "outputs": [
    {
     "name": "stdout",
     "output_type": "stream",
     "text": [
      "[5, 8, 11, 14]\n",
      "[0, 5, 10, 15, 20, 25, 30, 35]\n"
     ]
    }
   ],
   "source": [
    "# Starts at 5 goes up by 3 up to 14\n",
    "range_five_three = range(5, 15, 3)\n",
    "print(list(range_five_three))\n",
    "# Starts at 0 goes up by five and stops at 39 \n",
    "range_diff_five = range(0,40,5)\n",
    "print(list(range_diff_five))"
   ]
  },
  {
   "cell_type": "code",
   "execution_count": 12,
   "metadata": {},
   "outputs": [
    {
     "name": "stdout",
     "output_type": "stream",
     "text": [
      "18\n",
      "30\n"
     ]
    }
   ],
   "source": [
    "long_list = [1, 5, 6, 7, -23, 69.5, True, \"very\", \"long\", \"list\", \"that\", \"keeps\", \"going.\", \"Let's\", \"practice\", \"getting\", \"the\", \"length\"]\n",
    "\n",
    "big_range = range(2, 3000, 100)\n",
    "\n",
    "# Find the length of long_list\n",
    "long_list_len = len(long_list)\n",
    "print(long_list_len)\n",
    "\n",
    "# Find the length of big_range_length\n",
    "big_range_length = len(big_range)\n",
    "print(big_range_length)"
   ]
  },
  {
   "cell_type": "code",
   "execution_count": 13,
   "metadata": {},
   "outputs": [
    {
     "name": "stdout",
     "output_type": "stream",
     "text": [
      "['shirt', 'shirt']\n",
      "['pants', 'pants']\n"
     ]
    }
   ],
   "source": [
    "suitcase = [\"shirt\", \"shirt\", \"pants\", \"pants\", \"pajamas\", \"books\"]\n",
    "\n",
    "#Grabs the first two elements in suitcase\n",
    "beginning = suitcase[0:2]\n",
    "print(beginning)\n",
    "\n",
    "#Grabs the middle elements in suitcase \n",
    "middle = suitcase[2:4]\n",
    "print(middle)"
   ]
  },
  {
   "cell_type": "code",
   "execution_count": 14,
   "metadata": {},
   "outputs": [
    {
     "name": "stdout",
     "output_type": "stream",
     "text": [
      "['pajamas', 'books']\n",
      "['shirt', 'shirt', 'pants']\n"
     ]
    }
   ],
   "source": [
    "suitcase = [\"shirt\", \"shirt\", \"pants\", \"pants\", \"pajamas\", \"books\"]\n",
    "\n",
    "# Stores that last two elements in suitcase\n",
    "last_two_elements = suitcase[-2:]\n",
    "print(last_two_elements)\n",
    "\n",
    "# Grabs all elements except for the last three\n",
    "slice_off_last_three = suitcase[:-3]\n",
    "print(slice_off_last_three)"
   ]
  },
  {
   "cell_type": "code",
   "execution_count": 15,
   "metadata": {},
   "outputs": [
    {
     "name": "stdout",
     "output_type": "stream",
     "text": [
      "9\n"
     ]
    }
   ],
   "source": [
    "votes = [\"Jake\", \"Jake\", \"Laurie\", \"Laurie\", \"Laurie\", \"Jake\", \"Jake\", \"Jake\", \"Laurie\", \"Cassie\", \"Cassie\", \"Jake\", \"Jake\", \"Cassie\", \"Laurie\", \"Cassie\", \"Jake\", \"Jake\", \"Cassie\", \"Laurie\"]\n",
    "\n",
    "#Counts the number of times Jake appears in votes list  \n",
    "jake_votes = votes.count(\"Jake\")\n",
    "print(jake_votes)"
   ]
  },
  {
   "cell_type": "code",
   "execution_count": 16,
   "metadata": {},
   "outputs": [
    {
     "name": "stdout",
     "output_type": "stream",
     "text": [
      "['10 Downing St.', '12 Grimmauld Place', '1600 Pennsylvania Ave', '221 B Baker St.', '42 Wallaby Way', '742 Evergreen Terrace']\n",
      "['Rome', 'Paris', 'New York', 'Los Angeles', 'London']\n"
     ]
    }
   ],
   "source": [
    "# Sorts the addresses\n",
    "addresses = [\"221 B Baker St.\", \"42 Wallaby Way\", \"12 Grimmauld Place\", \"742 Evergreen Terrace\", \"1600 Pennsylvania Ave\", \"10 Downing St.\"]\n",
    "addresses.sort()\n",
    "print(addresses)\n",
    "\n",
    "# Sorts the list of Names\n",
    "names = [\"Ron\", \"Hermione\", \"Harry\", \"Albus\", \"Sirius\"]\n",
    "names.sort()\n",
    "\n",
    "\n",
    "# Sorts cities z-a\n",
    "cities = [\"London\", \"Paris\", \"Rome\", \"Los Angeles\", \"New York\"]\n",
    "cities.sort(reverse = True)\n",
    "print(cities)\n",
    "\n"
   ]
  },
  {
   "cell_type": "code",
   "execution_count": 17,
   "metadata": {},
   "outputs": [
    {
     "name": "stdout",
     "output_type": "stream",
     "text": [
      "['Minecraft', 'Pacman', 'Pokemon', 'Portal', 'Tetris', 'The Sims']\n",
      "['Portal', 'Minecraft', 'Pacman', 'Tetris', 'The Sims', 'Pokemon']\n"
     ]
    }
   ],
   "source": [
    "games = [\"Portal\", \"Minecraft\", \"Pacman\", \"Tetris\", \"The Sims\", \"Pokemon\"]\n",
    "\n",
    "# Use sorted() to create a new list \n",
    "games_sorted = sorted(games)\n",
    "print(games_sorted)\n",
    "print(games)"
   ]
  },
  {
   "cell_type": "code",
   "execution_count": 18,
   "metadata": {},
   "outputs": [],
   "source": [
    "inventory = [\"twin bed\", \"twin bed\", \"headboard\", \"queen bed\", \"king bed\", \"dresser\", \"dresser\", \"table\", \"table\", \"nightstand\", \"nightstand\", \"king bed\", \"king bed\", \"twin bed\", \"twin bed\", \"sheets\", \"sheets\", \"pillow\", \"pillow\"]\n",
    "\n",
    "# Total Items in inventory\n",
    "inventory_len = len(inventory)\n",
    "\n",
    "# Select first element in inventory \n",
    "first = inventory[0]\n",
    "\n",
    "# Select the last element\n",
    "last = inventory[-1]\n",
    "\n",
    "# Select items in index 2-5\n",
    "inventory_2_6 = inventory[2:6]\n",
    "\n",
    "# Select first 3 items\n",
    "first_3 = inventory[:3]\n",
    "\n",
    "# Count number of twin bed's\n",
    "twin_beds = inventory.count(\"twin bed\")\n",
    "\n",
    "# Remove the 5th element \n",
    "removed_item = inventory.pop(4)\n",
    "\n",
    "# Add item \n",
    "inventory.insert(10,\"19th Century Bed Frame\")\n",
    "\n",
    "# Sort inventory\n",
    "inventory.sort()"
   ]
  },
  {
   "cell_type": "code",
   "execution_count": 19,
   "metadata": {},
   "outputs": [
    {
     "name": "stdout",
     "output_type": "stream",
     "text": [
      "We sell 7 different kinds of pizza!\n",
      "[[2, 'pepperoni'], [6, 'pineapple'], [1, 'cheese'], [3, 'sausage'], [2, 'olives'], [7, 'anchovies'], [2, 'mushrooms']]\n",
      "[[1, 'cheese'], [2, 'mushrooms'], [2, 'olives'], [2, 'pepperoni'], [3, 'sausage'], [6, 'pineapple'], [7, 'anchovies']]\n",
      "[1, 'cheese']\n",
      "[7, 'anchovies']\n",
      "[[1, 'cheese'], [2, 'mushrooms'], [2, 'olives'], [2, 'pepperoni'], [3, 'sausage'], [6, 'pineapple']]\n",
      "[[1, 'cheese'], [2, 'mushrooms'], [2, 'olives'], [2, 'pepperoni'], [2.5, 'peppers'], [3, 'sausage'], [6, 'pineapple']]\n"
     ]
    }
   ],
   "source": [
    "#Created list of toppings\n",
    "toppings = [\"pepperoni\", \"pineapple\", \"cheese\", \"sausage\", \"olives\", \"anchovies\", \"mushrooms\"]\n",
    "#Created list of prices\n",
    "prices = [2,6,1,3,2,7,2]\n",
    "\n",
    "#Count of 2 in prices\n",
    "num_two_dollar_slices = prices.count(2)\n",
    "\n",
    "#Length of toppings \n",
    "num_pizzas = len(toppings)\n",
    "\n",
    "print(\"We sell \" + str(num_pizzas) +  \" different kinds of pizza!\")\n",
    "\n",
    "#Created a combined list\n",
    "pizza_and_prices = [[2,\"pepperoni\"],[6,\"pineapple\"],[1,\"cheese\"],[3,\"sausage\"],[2,\"olives\"],[7,\"anchovies\"],[2,\"mushrooms\"]]\n",
    "print(pizza_and_prices)\n",
    "\n",
    "#Sorted the list by prices asc \n",
    "pizza_and_prices.sort()\n",
    "print(pizza_and_prices)\n",
    "\n",
    "#Cheapest Pizza\n",
    "cheapest_pizza = pizza_and_prices[0]\n",
    "print(cheapest_pizza)\n",
    "\n",
    "#Most expensive pizza\n",
    "priciest_pizza = pizza_and_prices[-1]\n",
    "print(priciest_pizza)\n",
    "\n",
    "#Remove the last element \n",
    "pizza_and_prices.pop()\n",
    "print(pizza_and_prices)\n",
    "\n",
    "#Add peppers pizza \n",
    "pizza_and_prices.append([2.5,\"peppers\"])\n",
    "pizza_and_prices.sort()\n",
    "print(pizza_and_prices)"
   ]
  },
  {
   "cell_type": "markdown",
   "metadata": {},
   "source": [
    "Tuples are immutable once they are created they cannot be changed  "
   ]
  },
  {
   "cell_type": "code",
   "execution_count": 21,
   "metadata": {},
   "outputs": [
    {
     "name": "stdout",
     "output_type": "stream",
     "text": [
      "(27, 10, 15, 'Blue')\n"
     ]
    }
   ],
   "source": [
    "my_info = (27, 10, 15, \"Blue\")\n",
    "print(my_info)"
   ]
  },
  {
   "cell_type": "code",
   "execution_count": 22,
   "metadata": {},
   "outputs": [
    {
     "name": "stdout",
     "output_type": "stream",
     "text": [
      "[('Jenny', 61), ('Alexus', 70), ('Sam', 67), ('Grace', 64)]\n"
     ]
    }
   ],
   "source": [
    "#Creating two individual lists\n",
    "names = [\"Jenny\", \"Alexus\", \"Sam\", \"Grace\"]\n",
    "heights = [61, 70, 67, 64]\n",
    "\n",
    "#Using zip function to merge the lists\n",
    "names_and_heights = zip(names, heights)\n",
    "\n",
    "#Converted into a Tuple \n",
    "converted_list = list(names_and_heights)\n",
    "print(converted_list)"
   ]
  },
  {
   "cell_type": "code",
   "execution_count": null,
   "metadata": {},
   "outputs": [],
   "source": []
  },
  {
   "cell_type": "code",
   "execution_count": null,
   "metadata": {},
   "outputs": [],
   "source": []
  },
  {
   "cell_type": "code",
   "execution_count": null,
   "metadata": {},
   "outputs": [],
   "source": []
  },
  {
   "cell_type": "code",
   "execution_count": null,
   "metadata": {},
   "outputs": [],
   "source": []
  }
 ],
 "metadata": {
  "kernelspec": {
   "display_name": "Python 3 (ipykernel)",
   "language": "python",
   "name": "python3"
  },
  "language_info": {
   "codemirror_mode": {
    "name": "ipython",
    "version": 3
   },
   "file_extension": ".py",
   "mimetype": "text/x-python",
   "name": "python",
   "nbconvert_exporter": "python",
   "pygments_lexer": "ipython3",
   "version": "3.10.9"
  }
 },
 "nbformat": 4,
 "nbformat_minor": 2
}
