{
 "cells": [
  {
   "cell_type": "markdown",
   "id": "aa1528e9",
   "metadata": {},
   "source": [
    "## Learn Python for Data Science"
   ]
  },
  {
   "cell_type": "code",
   "execution_count": 3,
   "id": "00b3134d",
   "metadata": {},
   "outputs": [
    {
     "data": {
      "text/html": [
       "<div>\n",
       "<style scoped>\n",
       "    .dataframe tbody tr th:only-of-type {\n",
       "        vertical-align: middle;\n",
       "    }\n",
       "\n",
       "    .dataframe tbody tr th {\n",
       "        vertical-align: top;\n",
       "    }\n",
       "\n",
       "    .dataframe thead th {\n",
       "        text-align: right;\n",
       "    }\n",
       "</style>\n",
       "<table border=\"1\" class=\"dataframe\">\n",
       "  <thead>\n",
       "    <tr style=\"text-align: right;\">\n",
       "      <th></th>\n",
       "      <th>problem</th>\n",
       "      <th>brand</th>\n",
       "      <th>repair_status</th>\n",
       "      <th>event_year</th>\n",
       "      <th>age</th>\n",
       "      <th>percent_problem_fixed</th>\n",
       "    </tr>\n",
       "  </thead>\n",
       "  <tbody>\n",
       "    <tr>\n",
       "      <th>0</th>\n",
       "      <td>powerbattery</td>\n",
       "      <td>dell</td>\n",
       "      <td>repairable</td>\n",
       "      <td>2019</td>\n",
       "      <td>7</td>\n",
       "      <td>29.47</td>\n",
       "    </tr>\n",
       "    <tr>\n",
       "      <th>1</th>\n",
       "      <td>unknown</td>\n",
       "      <td>medion</td>\n",
       "      <td>end of life</td>\n",
       "      <td>2019</td>\n",
       "      <td>9</td>\n",
       "      <td>48.08</td>\n",
       "    </tr>\n",
       "    <tr>\n",
       "      <th>2</th>\n",
       "      <td>multiple</td>\n",
       "      <td>hp</td>\n",
       "      <td>end of life</td>\n",
       "      <td>2019</td>\n",
       "      <td>6</td>\n",
       "      <td>60.00</td>\n",
       "    </tr>\n",
       "    <tr>\n",
       "      <th>3</th>\n",
       "      <td>configuration</td>\n",
       "      <td>hp</td>\n",
       "      <td>repairable</td>\n",
       "      <td>2018</td>\n",
       "      <td>3</td>\n",
       "      <td>67.74</td>\n",
       "    </tr>\n",
       "    <tr>\n",
       "      <th>4</th>\n",
       "      <td>operating system</td>\n",
       "      <td>samsung</td>\n",
       "      <td>fixed</td>\n",
       "      <td>2019</td>\n",
       "      <td>9</td>\n",
       "      <td>59.72</td>\n",
       "    </tr>\n",
       "  </tbody>\n",
       "</table>\n",
       "</div>"
      ],
      "text/plain": [
       "            problem    brand repair_status  event_year  age  \\\n",
       "0      powerbattery     dell    repairable        2019    7   \n",
       "1           unknown   medion   end of life        2019    9   \n",
       "2          multiple       hp   end of life        2019    6   \n",
       "3     configuration       hp    repairable        2018    3   \n",
       "4  operating system  samsung         fixed        2019    9   \n",
       "\n",
       "   percent_problem_fixed  \n",
       "0                  29.47  \n",
       "1                  48.08  \n",
       "2                  60.00  \n",
       "3                  67.74  \n",
       "4                  59.72  "
      ]
     },
     "execution_count": 3,
     "metadata": {},
     "output_type": "execute_result"
    }
   ],
   "source": [
    "#To use the pandas library you must first import it \n",
    "import pandas as pd\n",
    "\n",
    "#How to read in a csv:\n",
    "#Here we are reading in a csv names laptops.csv into a variable laptops\n",
    "laptops = pd.read_csv(\"laptops.csv\")\n",
    "\n",
    "#How to preview a dataset\n",
    "laptops.head()"
   ]
  },
  {
   "cell_type": "code",
   "execution_count": 4,
   "id": "6768472a",
   "metadata": {},
   "outputs": [
    {
     "data": {
      "text/plain": [
       "problem                   object\n",
       "brand                     object\n",
       "repair_status             object\n",
       "event_year                 int64\n",
       "age                        int64\n",
       "percent_problem_fixed    float64\n",
       "dtype: object"
      ]
     },
     "execution_count": 4,
     "metadata": {},
     "output_type": "execute_result"
    }
   ],
   "source": [
    "#The dtypes method returns the data types assigned to each column within our csv \n",
    "# Objects are text, int64 are integers, float64 numbers with decimals \n",
    "laptops.dtypes"
   ]
  },
  {
   "cell_type": "code",
   "execution_count": 5,
   "id": "8877bb39",
   "metadata": {},
   "outputs": [
    {
     "data": {
      "text/html": [
       "<div>\n",
       "<style scoped>\n",
       "    .dataframe tbody tr th:only-of-type {\n",
       "        vertical-align: middle;\n",
       "    }\n",
       "\n",
       "    .dataframe tbody tr th {\n",
       "        vertical-align: top;\n",
       "    }\n",
       "\n",
       "    .dataframe thead th {\n",
       "        text-align: right;\n",
       "    }\n",
       "</style>\n",
       "<table border=\"1\" class=\"dataframe\">\n",
       "  <thead>\n",
       "    <tr style=\"text-align: right;\">\n",
       "      <th></th>\n",
       "      <th>country</th>\n",
       "      <th>product_category</th>\n",
       "      <th>brand</th>\n",
       "      <th>year_of_manufacture</th>\n",
       "      <th>product_age</th>\n",
       "      <th>repair_status</th>\n",
       "      <th>year_repaired</th>\n",
       "    </tr>\n",
       "  </thead>\n",
       "  <tbody>\n",
       "    <tr>\n",
       "      <th>0</th>\n",
       "      <td>gbr</td>\n",
       "      <td>aircon/dehumidifier</td>\n",
       "      <td>delonghi</td>\n",
       "      <td>2013.0</td>\n",
       "      <td>6.0</td>\n",
       "      <td>end of life</td>\n",
       "      <td>2019</td>\n",
       "    </tr>\n",
       "    <tr>\n",
       "      <th>1</th>\n",
       "      <td>nld</td>\n",
       "      <td>kettle</td>\n",
       "      <td>royal swiss</td>\n",
       "      <td>2019.0</td>\n",
       "      <td>0.0</td>\n",
       "      <td>fixed</td>\n",
       "      <td>2019</td>\n",
       "    </tr>\n",
       "    <tr>\n",
       "      <th>2</th>\n",
       "      <td>swe</td>\n",
       "      <td>mobile</td>\n",
       "      <td>apple</td>\n",
       "      <td>2015.0</td>\n",
       "      <td>3.0</td>\n",
       "      <td>repairable</td>\n",
       "      <td>2018</td>\n",
       "    </tr>\n",
       "    <tr>\n",
       "      <th>3</th>\n",
       "      <td>ita</td>\n",
       "      <td>desktop computer</td>\n",
       "      <td>dell</td>\n",
       "      <td>2011.0</td>\n",
       "      <td>10.0</td>\n",
       "      <td>fixed</td>\n",
       "      <td>2021</td>\n",
       "    </tr>\n",
       "    <tr>\n",
       "      <th>4</th>\n",
       "      <td>bel</td>\n",
       "      <td>power tool</td>\n",
       "      <td>makita</td>\n",
       "      <td>2015.0</td>\n",
       "      <td>4.0</td>\n",
       "      <td>end of life</td>\n",
       "      <td>2019</td>\n",
       "    </tr>\n",
       "  </tbody>\n",
       "</table>\n",
       "</div>"
      ],
      "text/plain": [
       "  country     product_category        brand  year_of_manufacture  product_age  \\\n",
       "0     gbr  aircon/dehumidifier     delonghi               2013.0          6.0   \n",
       "1     nld               kettle  royal swiss               2019.0          0.0   \n",
       "2     swe               mobile        apple               2015.0          3.0   \n",
       "3     ita     desktop computer         dell               2011.0         10.0   \n",
       "4     bel           power tool       makita               2015.0          4.0   \n",
       "\n",
       "  repair_status  year_repaired  \n",
       "0   end of life           2019  \n",
       "1         fixed           2019  \n",
       "2    repairable           2018  \n",
       "3         fixed           2021  \n",
       "4   end of life           2019  "
      ]
     },
     "execution_count": 5,
     "metadata": {},
     "output_type": "execute_result"
    }
   ],
   "source": [
    "#Importing a new csv repair and printing out a preview \n",
    "import pandas as pd\n",
    "repair = pd.read_csv('repair.csv')\n",
    "repair.head()\n"
   ]
  },
  {
   "cell_type": "code",
   "execution_count": 6,
   "id": "3d0199d2",
   "metadata": {},
   "outputs": [
    {
     "data": {
      "text/plain": [
       "projector                             159\n",
       "games console                         191\n",
       "aircon/dehumidifier                   244\n",
       "musical instrument                    258\n",
       "dslr/video camera                     374\n",
       "paper shredder                        380\n",
       "digital compact camera                398\n",
       "hair dryer                            511\n",
       "fan                                   543\n",
       "flat screen                           577\n",
       "battery/charger/adapter               643\n",
       "desktop computer                      704\n",
       "pc accessory                          712\n",
       "handheld entertainment device         744\n",
       "headphones                            892\n",
       "toaster                               910\n",
       "decorative or safety lights           910\n",
       "hi-fi integrated                      981\n",
       "large home electrical                1149\n",
       "iron                                 1194\n",
       "toy                                  1201\n",
       "hair & beauty item                   1251\n",
       "kettle                               1282\n",
       "printer/scanner                      1290\n",
       "tablet                               1347\n",
       "tv and gaming-related accessories    1388\n",
       "small home electrical                1664\n",
       "sewing machine                       1669\n",
       "watch/clock                          1947\n",
       "mobile                               2265\n",
       "misc                                 2405\n",
       "food processor                       2450\n",
       "power tool                           2794\n",
       "portable radio                       3013\n",
       "coffee maker                         3635\n",
       "small kitchen item                   3685\n",
       "hi-fi separates                      3911\n",
       "vacuum                               4034\n",
       "laptop                               4139\n",
       "lamp                                 4250\n",
       "Name: product_category, dtype: int64"
      ]
     },
     "execution_count": 6,
     "metadata": {},
     "output_type": "execute_result"
    }
   ],
   "source": [
    "#This will print out the different values in the product_category with a count, \n",
    "#asc = True will display them smallest > largest \n",
    "product_counts = repair['product_category'].value_counts(ascending = True)\n",
    "\n",
    "# show output\n",
    "product_counts"
   ]
  },
  {
   "cell_type": "code",
   "execution_count": 7,
   "id": "d51a14f6",
   "metadata": {},
   "outputs": [
    {
     "data": {
      "text/plain": [
       "fixed          32601\n",
       "end of life    15066\n",
       "repairable     12881\n",
       "unknown         1546\n",
       "Name: repair_status, dtype: int64"
      ]
     },
     "execution_count": 7,
     "metadata": {},
     "output_type": "execute_result"
    }
   ],
   "source": [
    "## Count distinct values in repair_status column\n",
    "status_counts = repair[\"repair_status\"].value_counts()\n",
    "\n",
    "# show output\n",
    "status_counts"
   ]
  },
  {
   "cell_type": "code",
   "execution_count": 8,
   "id": "f052c867",
   "metadata": {},
   "outputs": [
    {
     "data": {
      "text/plain": [
       "fixed          0.525027\n",
       "end of life    0.242632\n",
       "repairable     0.207444\n",
       "unknown        0.024898\n",
       "Name: repair_status, dtype: float64"
      ]
     },
     "execution_count": 8,
     "metadata": {},
     "output_type": "execute_result"
    }
   ],
   "source": [
    "#This also shows a count of repair status but in percentage format \n",
    "status_percents = repair[\"repair_status\"].value_counts(normalize = True)\n",
    "\n",
    "# show output\n",
    "status_percents"
   ]
  },
  {
   "cell_type": "code",
   "execution_count": 9,
   "id": "1762f56a",
   "metadata": {},
   "outputs": [
    {
     "data": {
      "text/plain": [
       "2019    19366\n",
       "2018    11784\n",
       "2020     8172\n",
       "2021     7711\n",
       "2017     6418\n",
       "2022     4070\n",
       "2016     2231\n",
       "2015     1189\n",
       "2014      816\n",
       "2013      301\n",
       "2012       21\n",
       "1999       15\n",
       "Name: year_repaired, dtype: int64"
      ]
     },
     "execution_count": 9,
     "metadata": {},
     "output_type": "execute_result"
    }
   ],
   "source": [
    "#Count of the distinct years \n",
    "year_repaired_counts = repair[\"year_repaired\"].value_counts()\n",
    "\n",
    "# show output\n",
    "year_repaired_counts"
   ]
  },
  {
   "cell_type": "code",
   "execution_count": null,
   "id": "881200e7",
   "metadata": {},
   "outputs": [],
   "source": []
  },
  {
   "cell_type": "code",
   "execution_count": null,
   "id": "8cdff9be",
   "metadata": {},
   "outputs": [],
   "source": []
  },
  {
   "cell_type": "code",
   "execution_count": null,
   "id": "78634147",
   "metadata": {},
   "outputs": [],
   "source": []
  },
  {
   "cell_type": "code",
   "execution_count": null,
   "id": "45c24fbc",
   "metadata": {},
   "outputs": [],
   "source": []
  },
  {
   "cell_type": "code",
   "execution_count": null,
   "id": "46f14ee2",
   "metadata": {},
   "outputs": [],
   "source": []
  },
  {
   "cell_type": "code",
   "execution_count": null,
   "id": "731902f5",
   "metadata": {},
   "outputs": [],
   "source": []
  }
 ],
 "metadata": {
  "kernelspec": {
   "display_name": "Python 3 (ipykernel)",
   "language": "python",
   "name": "python3"
  },
  "language_info": {
   "codemirror_mode": {
    "name": "ipython",
    "version": 3
   },
   "file_extension": ".py",
   "mimetype": "text/x-python",
   "name": "python",
   "nbconvert_exporter": "python",
   "pygments_lexer": "ipython3",
   "version": "3.10.9"
  }
 },
 "nbformat": 4,
 "nbformat_minor": 5
}
