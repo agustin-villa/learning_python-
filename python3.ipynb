{
 "cells": [
  {
   "cell_type": "markdown",
   "metadata": {},
   "source": [
    "# Python 3  Agustin Villa 4/8/2024\n",
    "In this notebook you will find the examples used to learn Python (Codecademy: Learn Python 3)"
   ]
  },
  {
   "cell_type": "markdown",
   "metadata": {},
   "source": [
    "#### Hello World"
   ]
  },
  {
   "cell_type": "code",
   "execution_count": 2,
   "metadata": {
    "jupyter": {
     "is_executing": true
    }
   },
   "outputs": [],
   "source": [
    "# This is a python comment, can be used to explain your code "
   ]
  },
  {
   "cell_type": "code",
   "execution_count": 3,
   "metadata": {},
   "outputs": [
    {
     "name": "stdout",
     "output_type": "stream",
     "text": [
      "Hello world!\n"
     ]
    }
   ],
   "source": [
    "# Print the distinguished greeting “Hello world!”\n",
    "print(\"Hello world!\")"
   ]
  },
  {
   "cell_type": "code",
   "execution_count": 4,
   "metadata": {},
   "outputs": [
    {
     "name": "stdout",
     "output_type": "stream",
     "text": [
      "Agustin Villa\n"
     ]
    }
   ],
   "source": [
    "# Print your name using the print() command.\n",
    "print(\"Agustin Villa\")"
   ]
  },
  {
   "cell_type": "markdown",
   "metadata": {},
   "source": [
    "SyntaxError: means there is something wrong with the way your program is written — punctuation that does not belong, a command where it is not expected, or a missing parenthesis can all trigger a SyntaxError\n",
    "\n",
    "NameError: occurs when the Python interpreter sees a word it does not recognize. Code that contains something that looks like a variable but was never defined will throw a NameError\n",
    "\n",
    "ZeroDivisionError: Python will raise this error when attempting to divide by 0"
   ]
  },
  {
   "cell_type": "code",
   "execution_count": 5,
   "metadata": {},
   "outputs": [
    {
     "name": "stdout",
     "output_type": "stream",
     "text": [
      "1700.4642857142858\n"
     ]
    }
   ],
   "source": [
    "#Print out the result of this equation: 25 * 68 + 13 / 28\n",
    "print(25 * 68 + 13 / 28)"
   ]
  },
  {
   "cell_type": "code",
   "execution_count": 6,
   "metadata": {},
   "outputs": [
    {
     "name": "stdout",
     "output_type": "stream",
     "text": [
      "96\n",
      "64\n"
     ]
    }
   ],
   "source": [
    "'''\n",
    "You’ve decided to get into quilting! To calculate the number of squares you’ll need for your first quilt let’s create two variables: quilt_width and quilt_length. Let’s make this first quilt 8 squares wide and 12 squares long.\n",
    "'''\n",
    "quilt_width = 8\n",
    "quilt_length = 12\n",
    "\n",
    "# Print out the number of squares you’ll need to create the quilt!\n",
    "print(quilt_width * quilt_length)\n",
    "\n",
    "'''\n",
    "It turns out that quilt required a little more material than you have on hand! Let’s only make the quilt 8 squares long. How many squares will you need for this quilt instead?\n",
    "'''\n",
    "quilt_length = 8\n",
    "print(quilt_width * quilt_length)"
   ]
  },
  {
   "cell_type": "code",
   "execution_count": 7,
   "metadata": {},
   "outputs": [
    {
     "name": "stdout",
     "output_type": "stream",
     "text": [
      "36\n",
      "49\n",
      "64\n",
      "1296\n"
     ]
    }
   ],
   "source": [
    "'''\n",
    "You really like how the square quilts from last exercise came out, and decide that all quilts that you make will be square from now on.\n",
    "\n",
    "Using the exponent operator, print out how many squares you’ll need for a 6x6 quilt, a 7x7 quilt, and an 8x8 quilt.\n",
    "'''\n",
    "\n",
    "# Calculation of squares for:\n",
    "# 6x6 quilt\n",
    "print(6**2)\n",
    "# 7x7 quilt\n",
    "print(7**2)\n",
    "# 8x8 quilt\n",
    "print(8**2)\n",
    "\n",
    "'''\n",
    "Your 6x6 quilts have become so popular that 6 people have each requested 6 quilts. Print out how many total tiles you would need to make 6 6x6 quilts for 6 people.\n",
    "'''\n",
    "# How many squares for 6 people to have 6 quilts each that are 6x6?\n",
    "print(6*6*(6**2))"
   ]
  },
  {
   "cell_type": "code",
   "execution_count": 8,
   "metadata": {},
   "outputs": [
    {
     "name": "stdout",
     "output_type": "stream",
     "text": [
      "10\n"
     ]
    }
   ],
   "source": [
    "'''\n",
    "You are starting a new campaign for your online shop where every 11th customer gets 11% off of their next order. For ease, you decide that order numbers that are divisible by 11 will receive the coupon.\n",
    "\n",
    "Here comes order #263! Find the remainder by calculating 263 modulo 11 and store the result in a variable called order_263_r.\n",
    "\n",
    "Print out order_263_r.\n",
    "'''\n",
    "\n",
    "order_263_r = 263%11\n",
    "print(order_263_r)"
   ]
  },
  {
   "cell_type": "code",
   "execution_count": 9,
   "metadata": {},
   "outputs": [
    {
     "name": "stdout",
     "output_type": "stream",
     "text": [
      "The wind, which had hitherto carried us along with amazing rapidity, sank at sunset to a light breeze; the soft air just ruffled the water and caused a pleasant motion among the trees as we approached the shore, from which it wafted the most delightful scent of flowers and hay.\n"
     ]
    }
   ],
   "source": [
    "'''\n",
    "Concatenate the strings and save the message they form in the variable message.\n",
    "\n",
    "Now uncomment the print statement and run your code to see the result in the terminal!\n",
    "'''\n",
    "string1 = \"The wind, \"\n",
    "string2 = \"which had hitherto carried us along with amazing rapidity, \"\n",
    "string3 = \"sank at sunset to a light breeze; \"\n",
    "string4 = \"the soft air just ruffled the water and \"\n",
    "string5 = \"caused a pleasant motion among the trees as we approached the shore, \"\n",
    "string6 = \"from which it wafted the most delightful scent of flowers and hay.\"\n",
    "\n",
    "# Define message below:\n",
    "message = string1+string2+string3+string4+string5+string6\n",
    "\n",
    "print(message)"
   ]
  },
  {
   "cell_type": "code",
   "execution_count": 10,
   "metadata": {},
   "outputs": [
    {
     "name": "stdout",
     "output_type": "stream",
     "text": [
      "The total price is 109.0\n"
     ]
    }
   ],
   "source": [
    "'''\n",
    "We’re doing a little bit of online shopping and find a pair of new sneakers. Right before we check out, we spot a nice sweater and some fun books we also want to purchase!\n",
    "\n",
    "Use the += operator to update the total_price to include the prices of nice_sweater and fun_books.\n",
    "'''\n",
    "total_price = 0\n",
    "\n",
    "new_sneakers = 50.00\n",
    "\n",
    "total_price += new_sneakers\n",
    "\n",
    "nice_sweater = 39.00\n",
    "fun_books = 20.00\n",
    "# Update total_price here:\n",
    "total_price += nice_sweater + fun_books\n",
    "print(\"The total price is\", total_price)"
   ]
  },
  {
   "cell_type": "code",
   "execution_count": 1,
   "metadata": {},
   "outputs": [
    {
     "name": "stdout",
     "output_type": "stream",
     "text": [
      "What is your name: Agustin\n",
      "Agustin\n"
     ]
    }
   ],
   "source": [
    "# How to store user input\n",
    "name = input(\"What is your name: \")\n",
    "print(name)"
   ]
  },
  {
   "cell_type": "markdown",
   "metadata": {},
   "source": [
    "#### Control Flow"
   ]
  },
  {
   "cell_type": "code",
   "execution_count": 3,
   "metadata": {},
   "outputs": [
    {
     "name": "stdout",
     "output_type": "stream",
     "text": [
      "<class 'str'>\n",
      "<class 'bool'>\n"
     ]
    }
   ],
   "source": [
    "\"\"\"\n",
    "Create a variable named my_baby_bool and set it equal to the string \"true\".\n",
    "Check the type of my_baby_bool using type(my_baby_bool).\n",
    "You’ll have to print it to get the results to display in the terminal.\n",
    "\"\"\"\n",
    "my_baby_bool  = \"true\"\n",
    "print(type(my_baby_bool))\n",
    "\n",
    "\"\"\"\n",
    "Create a variable named my_baby_bool_two and set it equal to True.\n",
    "You’ll have to print it to get the results to display in the terminal.\n",
    "\"\"\"\n",
    "my_baby_bool_two = True\n",
    "print(type(my_baby_bool_two))"
   ]
  },
  {
   "cell_type": "code",
   "execution_count": 7,
   "metadata": {},
   "outputs": [
    {
     "name": "stdout",
     "output_type": "stream",
     "text": [
      "These numbers are the same\n",
      "You have enough credits to graduate!\n",
      "You meet the requirements to graduate!\n",
      "You have met at least one of the requirements.\n",
      "You do not meet the requirements to graduate.\n"
     ]
    }
   ],
   "source": [
    "x = 20\n",
    "y = 20\n",
    "\n",
    "# Write the first if statement here:\n",
    "\"\"\"\n",
    "Create an if statement that checks if x and y are equal, print the string below if so:\n",
    "\"\"\"\n",
    "if(x ==y):\n",
    "  print(\"These numbers are the same\")\n",
    "\n",
    "\"\"\"\n",
    "The nearby college, Calvin Coolidge’s Cool College (or 4C, as the locals call it) requires students to earn 120 credits to graduate.\n",
    "\n",
    "Write an if statement that checks if the student has enough credits to graduate. If they do, print the string:\n",
    "\"\"\"\n",
    "credits = 120\n",
    "gpa = 3.4\n",
    "\n",
    "# Write the second if statement here:\n",
    "if (credits >= 120):\n",
    "  print(\"You have enough credits to graduate!\")\n",
    "\n",
    "\"\"\"\n",
    " 120 credits aren’t the only graduation requirement, you also need to have a GPA of 2.0 or higher\n",
    "\"\"\"\n",
    "if credits >= 120 and gpa >= 2.0 :\n",
    "  print(\"You meet the requirements to graduate!\")\n",
    "\n",
    "\"\"\"\n",
    "Write an if statement that checks if a student either has 120 or more credits or a GPA 2.0 or higher, and if so prints:\n",
    "\"\"\"\n",
    "if (credits >= 120 or gpa >= 2.0):\n",
    "  print(\"You have met at least one of the requirements.\")\n",
    "\n",
    "\"\"\"\n",
    "If a student is failing to meet one or both graduation requirements, they want it to print:\n",
    "\"\"\"\n",
    "credits = 120\n",
    "gpa = 1.9\n",
    "\n",
    "if (credits >= 120) and (gpa >= 2.0):\n",
    "  print(\"You meet the requirements to graduate!\")\n",
    "else:\n",
    "  print(\"You do not meet the requirements to graduate.\")"
   ]
  },
  {
   "cell_type": "code",
   "execution_count": 8,
   "metadata": {},
   "outputs": [
    {
     "name": "stdout",
     "output_type": "stream",
     "text": [
      "B\n"
     ]
    }
   ],
   "source": [
    "\"\"\"\n",
    "Calvin Coolidge’s Cool College has noticed that students prefer to get letter grades.\n",
    "\n",
    "Write an if/elif/else statement that:\n",
    "\n",
    "    If grade is 90 or higher, print \"A\"\n",
    "    Else if grade is 80 or higher, print \"B\"\n",
    "    Else if grade is 70 or higher, print \"C\"\n",
    "    Else if grade is 60 or higher, print \"D\"\n",
    "    Else, print \"F\"\n",
    "\n",
    "\"\"\"\n",
    "grade = 86\n",
    "\n",
    "if grade >= 90:\n",
    "  print(\"A\")\n",
    "elif grade >= 80:\n",
    "  print(\"B\")\n",
    "elif grade >= 70:\n",
    "  print(\"C\")\n",
    "elif grade >= 60:\n",
    "  print(\"D\")\n",
    "else:\n",
    "  print(\"F\")"
   ]
  },
  {
   "cell_type": "code",
   "execution_count": 11,
   "metadata": {},
   "outputs": [
    {
     "name": "stdout",
     "output_type": "stream",
     "text": [
      "False\n"
     ]
    }
   ],
   "source": [
    "x =  3 ** 2 + 1 != 30 / 3\n",
    "print(x)"
   ]
  },
  {
   "cell_type": "markdown",
   "metadata": {},
   "source": [
    "#### Lists "
   ]
  },
  {
   "cell_type": "code",
   "execution_count": 13,
   "metadata": {},
   "outputs": [
    {
     "name": "stdout",
     "output_type": "stream",
     "text": [
      "['Sam', 67, 85.5, True]\n"
     ]
    }
   ],
   "source": [
    "\"\"\"\n",
    "Create a new list called sam_height_and_testscore that contains:\n",
    "\n",
    "    The string \"Sam\" (to represent Sam’s name)\n",
    "    The number 67 (to represent Sam’s height)\n",
    "    The float 85.5 (to represent Sam’s score)\n",
    "    The boolean True (to represent Sam passing the test\n",
    "\"\"\"\n",
    "sam_height_and_testscore = [\"Sam\", 67, 85.5, True]\n",
    "print(sam_height_and_testscore)"
   ]
  },
  {
   "cell_type": "code",
   "execution_count": 14,
   "metadata": {},
   "outputs": [
    {
     "name": "stdout",
     "output_type": "stream",
     "text": [
      "['daisies', 'periwinkle']\n",
      "['daisies', 'periwinkle', 'tulips', 'roses']\n"
     ]
    }
   ],
   "source": [
    "orders = [\"daisies\", \"periwinkle\"]\n",
    "print(orders)\n",
    "\n",
    "\"\"\"\n",
    "Jiho just received a new order for \"tulips\". Use append to add this string to orders.\n",
    "Another order has come in! Use append to add \"roses\" to orders.\n",
    "\"\"\"\n",
    "orders.append(\"tulips\")\n",
    "orders.append(\"roses\")\n",
    "\n",
    "print(orders)"
   ]
  },
  {
   "cell_type": "code",
   "execution_count": 17,
   "metadata": {},
   "outputs": [
    {
     "name": "stdout",
     "output_type": "stream",
     "text": [
      "['daisy', 'buttercup', 'snapdragon', 'gardenia', 'lily', 'lilac', 'iris']\n"
     ]
    }
   ],
   "source": [
    "orders = [\"daisy\", \"buttercup\", \"snapdragon\", \"gardenia\", \"lily\"]\n",
    "\"\"\"\n",
    "Jiho is updating a list of orders. He just received orders for \"lilac\" and \"iris\".\n",
    "Create a list called new_orders that contains our new orders.\n",
    "\"\"\"\n",
    "# Create new orders here:\n",
    "new_orders = [\"lilac\", \"iris\"]\n",
    "\n",
    "\"\"\"\n",
    "Use + to create a new list called orders_combined that combines orders with new_orders.\n",
    "\"\"\"\n",
    "orders_combined = orders + new_orders\n",
    "\n",
    "print(orders_combined)\n"
   ]
  },
  {
   "cell_type": "code",
   "execution_count": 19,
   "metadata": {},
   "outputs": [
    {
     "name": "stdout",
     "output_type": "stream",
     "text": [
      "Pam\n"
     ]
    }
   ],
   "source": [
    "employees = [\"Michael\", \"Dwight\", \"Jim\", \"Pam\", \"Ryan\", \"Andy\", \"Robert\"]\n",
    "\n",
    "\"\"\"\n",
    "Use square brackets ([ and ]) to access the 4th employee from the list employees. Save it to the variable employee_four\n",
    "\"\"\"\n",
    "employee_four = employees[3]\n",
    "print(employee_four)"
   ]
  },
  {
   "cell_type": "code",
   "execution_count": 20,
   "metadata": {},
   "outputs": [
    {
     "name": "stdout",
     "output_type": "stream",
     "text": [
      "cereal\n"
     ]
    }
   ],
   "source": [
    "shopping_list = [\"eggs\", \"butter\", \"milk\", \"cucumbers\", \"juice\", \"cereal\"]\n",
    "\"\"\"\n",
    "Create a variable called last_element.\n",
    "\n",
    "Assign the last element in shopping_list to the variable last_element using a negative index.\n",
    "\"\"\"\n",
    "last_element = shopping_list[-1]\n",
    "print(last_element)"
   ]
  },
  {
   "cell_type": "code",
   "execution_count": 1,
   "metadata": {},
   "outputs": [
    {
     "name": "stdout",
     "output_type": "stream",
     "text": [
      "['Jiho', 'Calla', 'Sonny', 'Alisha']\n",
      "['Jiho', 'Calla', 'Sonny', 'Alex']\n"
     ]
    }
   ],
   "source": [
    "\"\"\"\n",
    "Define a list called garden_waitlist and set the value to contain our customers (in order): \"Jiho\", \"Adam\", \"Sonny\", and \"Alisha\"\n",
    "\"\"\"\n",
    "# Your code below:\n",
    "garden_waitlist = [\"Jiho\", \"Adam\", \"Sonny\", \"Alisha\"]\n",
    "\"\"\"\n",
    "Replace \"Adam\" with our other interested customer \"Calla\" using the index method we used in the narrative.\n",
    "Print garden_waitlist to see the change! \n",
    "\"\"\"\n",
    "garden_waitlist[1] = \"Calla\"\n",
    "print(garden_waitlist)\n",
    "\"\"\"\n",
    "Replace Alisha with Alex using a negative index.\n",
    "Print garden_waitlist again to see the change! \n",
    "\"\"\"\n",
    "garden_waitlist[-1] = \"Alex\"\n",
    "print(garden_waitlist)\n"
   ]
  },
  {
   "cell_type": "code",
   "execution_count": 2,
   "metadata": {},
   "outputs": [
    {
     "name": "stdout",
     "output_type": "stream",
     "text": [
      "['Celery', 'Orange Juice', 'Orange', 'Flatbread']\n",
      "['Celery', 'Orange Juice', 'Orange']\n",
      "['Orange', 'Apple', 'Mango', 'Broccoli', 'Mango']\n",
      "['Orange', 'Apple', 'Broccoli', 'Mango']\n"
     ]
    }
   ],
   "source": [
    "order_list = [\"Celery\", \"Orange Juice\", \"Orange\", \"Flatbread\"]\n",
    "print(order_list)\n",
    "\"\"\"\n",
    "We are in luck! We actually found a spare case of \"Flatbread\" in our back storage. We won’t need to order it anymore. Let’s remove it from order_list using the .remove() method.\n",
    "Print order_list to see the current list\n",
    "\"\"\"\n",
    "order_list.remove(\"Flatbread\")\n",
    "print(order_list)\n",
    "\n",
    "new_store_order_list = [\"Orange\", \"Apple\", \"Mango\", \"Broccoli\", \"Mango\"]\n",
    "print(new_store_order_list)\n",
    "\n",
    "\"\"\"\n",
    "We are in luck again! We actually found a spare case of \"Mango\" in our back storage.\n",
    "We won’t be needing to place two orders anymore.\n",
    "Let’s remove it from new_store_order_list using the .remove() method.\n",
    "Print new_store_order_list to see the current list.\n",
    "\"\"\"\n",
    "new_store_order_list.remove(\"Mango\")\n",
    "print(new_store_order_list)"
   ]
  },
  {
   "cell_type": "code",
   "execution_count": 4,
   "metadata": {},
   "outputs": [
    {
     "name": "stdout",
     "output_type": "stream",
     "text": [
      "[['Jenny', 90], ['Alexus', 85.5], ['Sam', 83], ['Ellie', 101.5]]\n",
      "83\n",
      "101.5\n"
     ]
    }
   ],
   "source": [
    "\"\"\"\n",
    "We want to have a way to store all of our classroom test score data.\n",
    "Using the provided table, create a two-dimensional list called class_name_test to represent the data. Each sublist in class_name_test should have one student’s name and their associated score.\n",
    "Name \tTest Score\n",
    "\"Jenny\" \t90\n",
    "\"Alexus\" \t85.5\n",
    "\"Sam\" \t83\n",
    "\"Ellie\" \t101.5\n",
    "Print class_name_test to see the result.\n",
    "\"\"\"\n",
    "class_name_test = ([[\"Jenny\", 90], [\"Alexus\", 85.5], [\"Sam\", 83], [\"Ellie\", 101.5]])\n",
    "print(class_name_test)\n",
    "\"\"\"\n",
    "Use double square brackets ([][]) to select Sam‘s test score from the list class_name_test.\n",
    "Save it to the variable sams_score.\n",
    "Print the variable sams_score to see the result.\n",
    "\"\"\"\n",
    "sams_score = class_name_test[2][1]\n",
    "print(sams_score)\n",
    "\"\"\"\n",
    "Use double square brackets ([][]) to select Ellies test score from the list class_name_test. This time only use negative indices!\n",
    "Save it to the variable ellies_score.\n",
    "Print the variable ellies_score to see the result.\n",
    "\"\"\"\n",
    "ellies_score = class_name_test[-1][-1]\n",
    "print(ellies_score)"
   ]
  },
  {
   "cell_type": "code",
   "execution_count": 5,
   "metadata": {},
   "outputs": [
    {
     "name": "stdout",
     "output_type": "stream",
     "text": [
      "[['Kenny', 'American', 9], ['Tanya', 'Ukrainian', 9], ['Madison', 'Indian', 7]]\n",
      "[['Kenny', 'American', 9], ['Tanya', 'Ukrainian', 9], ['Madison', 'Indian', 8]]\n",
      "[['Ken', 'American', 9], ['Tanya', 'Ukrainian', 9], ['Madison', 'Indian', 8]]\n"
     ]
    }
   ],
   "source": [
    "\"\"\"\n",
    "Our school is expanding! We are welcoming a new set of students today from all over the world.\n",
    "\n",
    "Using the provided table, create a two-dimensional list called incoming_class to represent the data. Each sublist in incoming_class should contain the name, nationality, and grade for a single student.\n",
    "Name \tNationality \tGrade Level\n",
    "\"Kenny\" \t\"American\" \t9\n",
    "\"Tanya\" \t\"Ukrainian\" \t9\n",
    "\"Madison\" \t\"Indian\" \t7\n",
    "\n",
    "Print incoming_class to see our list.\n",
    "\"\"\"\n",
    "incoming_class = ([[\"Kenny\", \"American\", 9],[\"Tanya\", \"Ukrainian\", 9], [\"Madison\", \"Indian\", 7]])\n",
    "print(incoming_class)\n",
    "\n",
    "\"\"\"\n",
    "\"Madison\" passed an exam to advance a grade. She will be pushed into 8th grade rather than her current 7th in our list.\n",
    "\n",
    "Modify the list using double brackets [][] to make the change. Use positive indices.\n",
    "\n",
    "Print incoming_class to see our change.\n",
    "\"\"\"\n",
    "incoming_class[2][2]  = 8\n",
    "print(incoming_class)\n",
    "\"\"\"\n",
    "\"Kenny\" likes to be called by his nickname \"Ken\". Modify the list using double brackets [][] to accommodate the change but only using negative indices.\n",
    "Print incoming_class to see our change.\n",
    "\"\"\"\n",
    "incoming_class[-3][-3] = \"Ken\"\n",
    "print(incoming_class) "
   ]
  },
  {
   "cell_type": "code",
   "execution_count": 6,
   "metadata": {},
   "outputs": [
    {
     "name": "stdout",
     "output_type": "stream",
     "text": [
      "['Small', 'Large', 'Medium', 'Medium']\n",
      "[['Ainsley', 'Small', True], ['Ben', 'Large', False], ['Chani', 'Medium', True], ['Depak', 'Medium', False]]\n",
      "[['Ainsley', 'Small', True], ['Ben', 'Large'], ['Chani', 'Medium', False], ['Depak', 'Medium', False], ['Amit', 'Large', True], ['Karim', 'X-Large', False]]\n"
     ]
    }
   ],
   "source": [
    "# Creating list of first names \n",
    "first_names = [\"Ainsley\", \"Ben\", \"Chani\", \"Depak\"]\n",
    "\n",
    "# List of the preferred sizes \n",
    "preferred_size = [\"Small\", \"Large\", \"Medium\"]\n",
    "\n",
    "# Using append to add to preferred_size list \n",
    "preferred_size.append(\"Medium\")\n",
    "print(preferred_size)\n",
    "\n",
    "\n",
    "#Created 2D Array includes name, size and expedited shipping T or F\n",
    "customer_data = ([[\"Ainsley\", \"Small\", True],[\"Ben\", \"Large\", False], [\"Chani\", \"Medium\", True], [\"Depak\", \"Medium\", False]])\n",
    "print(customer_data)\n",
    "\n",
    "#Changing Chani to False expedited shipping\n",
    "customer_data[-2][-1] = False\n",
    "\n",
    "#Ben wants his shipping option removed from the list\n",
    "customer_data[1].remove(False)\n",
    "\n",
    "#Creating final list and merging customer_data with two new sublists \n",
    "customer_data_final = customer_data + [[\"Amit\", \"Large\", True], [\"Karim\", \"X-Large\", False]]\n",
    "print(customer_data_final)"
   ]
  },
  {
   "cell_type": "code",
   "execution_count": 7,
   "metadata": {},
   "outputs": [
    {
     "name": "stdout",
     "output_type": "stream",
     "text": [
      "[['physics', 98], ['calculus', 97], ['poetry', 85], ['history', 88]]\n",
      "[['physics', 98], ['calculus', 97], ['poetry', 85], ['history', 88], ['computer science', 100], ['visual science', 93]]\n",
      "[['physics', 98], ['calculus', 97], ['poetry', 85], ['history', 88], ['computer science', 100], ['visual science', 98]]\n",
      "[['physics', 98], ['calculus', 97], ['poetry', 'Pass'], ['history', 88], ['computer science', 100], ['visual science', 98]]\n",
      "[['politics', 80], ['latin', 96], ['dance', 97], ['architecture', 65], ['physics', 98], ['calculus', 97], ['poetry', 'Pass'], ['history', 88], ['computer science', 100], ['visual science', 98]]\n"
     ]
    }
   ],
   "source": [
    "last_semester_gradebook = [[\"politics\", 80], [\"latin\", 96], [\"dance\", 97], [\"architecture\", 65]]\n",
    "\n",
    "# Created two lists subjects and grades\n",
    "subjects = [\"physics\", \"calculus\", \"poetry\", \"history\"]\n",
    "grades = [98, 97, 85, 88]\n",
    "\n",
    "#Manually (without functions) created a 2D list \n",
    "gradebook = [[\"physics\", 98],[\"calculus\", 97],[\"poetry\", 85],[\"history\", 88]]\n",
    "print(gradebook)\n",
    "\n",
    "#Adding computer science and visual arts grade \n",
    "gradebook.append([\"computer science\", 100])\n",
    "gradebook.append([\"visual science\", 93])\n",
    "print(gradebook)\n",
    "\n",
    "#Adding 5 points to visual science grade \n",
    "gradebook[-1][-1] = gradebook[-1][-1] + 5\n",
    "print(gradebook)\n",
    "\n",
    "#Removing grade from Poetry\n",
    "gradebook[2].remove(85)\n",
    "#Adding Pass to poetry class \n",
    "gradebook[2].append(\"Pass\")\n",
    "print(gradebook)\n",
    "\n",
    "#Combining last_semester_gradebook and gradebook\n",
    "full_gradebook = last_semester_gradebook + gradebook\n",
    "print(full_gradebook)"
   ]
  },
  {
   "cell_type": "code",
   "execution_count": 8,
   "metadata": {},
   "outputs": [
    {
     "name": "stdout",
     "output_type": "stream",
     "text": [
      "['Mango', 'Filet Mignon', 'Chocolate Milk']\n",
      "['Pineapple', 'Mango', 'Filet Mignon', 'Chocolate Milk']\n"
     ]
    }
   ],
   "source": [
    "front_display_list = [\"Mango\", \"Filet Mignon\", \"Chocolate Milk\"]\n",
    "print(front_display_list)\n",
    "\n",
    "# Adding Pineapple to front of the list \n",
    "front_display_list.insert(0,\"Pineapple\")\n",
    "print(front_display_list)"
   ]
  },
  {
   "cell_type": "code",
   "execution_count": 9,
   "metadata": {},
   "outputs": [
    {
     "name": "stdout",
     "output_type": "stream",
     "text": [
      "['Machine Learning', 'SQL', 'Pandas', 'Algorithms', 'Statistics', 'Python 3']\n",
      "['Machine Learning', 'SQL', 'Pandas', 'Algorithms', 'Statistics']\n",
      "['Machine Learning', 'SQL', 'Pandas', 'Statistics']\n"
     ]
    }
   ],
   "source": [
    "data_science_topics = [\"Machine Learning\", \"SQL\", \"Pandas\", \"Algorithms\", \"Statistics\", \"Python 3\"]\n",
    "print(data_science_topics)\n",
    "\n",
    "# Removing Python 3\n",
    "data_science_topics.pop()\n",
    "print(data_science_topics)\n",
    "\n",
    "#Removing Algorithms\n",
    "data_science_topics.pop(3)\n",
    "print(data_science_topics)"
   ]
  },
  {
   "cell_type": "code",
   "execution_count": 10,
   "metadata": {},
   "outputs": [
    {
     "name": "stdout",
     "output_type": "stream",
     "text": [
      "[0, 1, 2, 3, 4, 5, 6, 7, 8]\n",
      "[0, 1, 2, 3, 4, 5, 6, 7]\n"
     ]
    }
   ],
   "source": [
    "#Creates range object from 0-8 the list() function makes it into a list \n",
    "number_list = range(9)\n",
    "print(list(number_list))\n",
    "\n",
    "\n",
    "zero_to_seven = range(8)\n",
    "print(list(zero_to_seven))"
   ]
  },
  {
   "cell_type": "code",
   "execution_count": 11,
   "metadata": {},
   "outputs": [
    {
     "name": "stdout",
     "output_type": "stream",
     "text": [
      "[5, 8, 11, 14]\n",
      "[0, 5, 10, 15, 20, 25, 30, 35]\n"
     ]
    }
   ],
   "source": [
    "# Starts at 5 goes up by 3 up to 14\n",
    "range_five_three = range(5, 15, 3)\n",
    "print(list(range_five_three))\n",
    "# Starts at 0 goes up by five and stops at 39 \n",
    "range_diff_five = range(0,40,5)\n",
    "print(list(range_diff_five))"
   ]
  },
  {
   "cell_type": "code",
   "execution_count": 12,
   "metadata": {},
   "outputs": [
    {
     "name": "stdout",
     "output_type": "stream",
     "text": [
      "18\n",
      "30\n"
     ]
    }
   ],
   "source": [
    "long_list = [1, 5, 6, 7, -23, 69.5, True, \"very\", \"long\", \"list\", \"that\", \"keeps\", \"going.\", \"Let's\", \"practice\", \"getting\", \"the\", \"length\"]\n",
    "\n",
    "big_range = range(2, 3000, 100)\n",
    "\n",
    "# Find the length of long_list\n",
    "long_list_len = len(long_list)\n",
    "print(long_list_len)\n",
    "\n",
    "# Find the length of big_range_length\n",
    "big_range_length = len(big_range)\n",
    "print(big_range_length)"
   ]
  },
  {
   "cell_type": "code",
   "execution_count": 13,
   "metadata": {},
   "outputs": [
    {
     "name": "stdout",
     "output_type": "stream",
     "text": [
      "['shirt', 'shirt']\n",
      "['pants', 'pants']\n"
     ]
    }
   ],
   "source": [
    "suitcase = [\"shirt\", \"shirt\", \"pants\", \"pants\", \"pajamas\", \"books\"]\n",
    "\n",
    "#Grabs the first two elements in suitcase\n",
    "beginning = suitcase[0:2]\n",
    "print(beginning)\n",
    "\n",
    "#Grabs the middle elements in suitcase \n",
    "middle = suitcase[2:4]\n",
    "print(middle)"
   ]
  },
  {
   "cell_type": "code",
   "execution_count": 14,
   "metadata": {},
   "outputs": [
    {
     "name": "stdout",
     "output_type": "stream",
     "text": [
      "['pajamas', 'books']\n",
      "['shirt', 'shirt', 'pants']\n"
     ]
    }
   ],
   "source": [
    "suitcase = [\"shirt\", \"shirt\", \"pants\", \"pants\", \"pajamas\", \"books\"]\n",
    "\n",
    "# Stores that last two elements in suitcase\n",
    "last_two_elements = suitcase[-2:]\n",
    "print(last_two_elements)\n",
    "\n",
    "# Grabs all elements except for the last three\n",
    "slice_off_last_three = suitcase[:-3]\n",
    "print(slice_off_last_three)"
   ]
  },
  {
   "cell_type": "code",
   "execution_count": 15,
   "metadata": {},
   "outputs": [
    {
     "name": "stdout",
     "output_type": "stream",
     "text": [
      "9\n"
     ]
    }
   ],
   "source": [
    "votes = [\"Jake\", \"Jake\", \"Laurie\", \"Laurie\", \"Laurie\", \"Jake\", \"Jake\", \"Jake\", \"Laurie\", \"Cassie\", \"Cassie\", \"Jake\", \"Jake\", \"Cassie\", \"Laurie\", \"Cassie\", \"Jake\", \"Jake\", \"Cassie\", \"Laurie\"]\n",
    "\n",
    "#Counts the number of times Jake appears in votes list  \n",
    "jake_votes = votes.count(\"Jake\")\n",
    "print(jake_votes)"
   ]
  },
  {
   "cell_type": "code",
   "execution_count": 16,
   "metadata": {},
   "outputs": [
    {
     "name": "stdout",
     "output_type": "stream",
     "text": [
      "['10 Downing St.', '12 Grimmauld Place', '1600 Pennsylvania Ave', '221 B Baker St.', '42 Wallaby Way', '742 Evergreen Terrace']\n",
      "['Rome', 'Paris', 'New York', 'Los Angeles', 'London']\n"
     ]
    }
   ],
   "source": [
    "# Sorts the addresses\n",
    "addresses = [\"221 B Baker St.\", \"42 Wallaby Way\", \"12 Grimmauld Place\", \"742 Evergreen Terrace\", \"1600 Pennsylvania Ave\", \"10 Downing St.\"]\n",
    "addresses.sort()\n",
    "print(addresses)\n",
    "\n",
    "# Sorts the list of Names\n",
    "names = [\"Ron\", \"Hermione\", \"Harry\", \"Albus\", \"Sirius\"]\n",
    "names.sort()\n",
    "\n",
    "\n",
    "# Sorts cities z-a\n",
    "cities = [\"London\", \"Paris\", \"Rome\", \"Los Angeles\", \"New York\"]\n",
    "cities.sort(reverse = True)\n",
    "print(cities)\n",
    "\n"
   ]
  },
  {
   "cell_type": "code",
   "execution_count": 17,
   "metadata": {},
   "outputs": [
    {
     "name": "stdout",
     "output_type": "stream",
     "text": [
      "['Minecraft', 'Pacman', 'Pokemon', 'Portal', 'Tetris', 'The Sims']\n",
      "['Portal', 'Minecraft', 'Pacman', 'Tetris', 'The Sims', 'Pokemon']\n"
     ]
    }
   ],
   "source": [
    "games = [\"Portal\", \"Minecraft\", \"Pacman\", \"Tetris\", \"The Sims\", \"Pokemon\"]\n",
    "\n",
    "# Use sorted() to create a new list \n",
    "games_sorted = sorted(games)\n",
    "print(games_sorted)\n",
    "print(games)"
   ]
  },
  {
   "cell_type": "code",
   "execution_count": 18,
   "metadata": {},
   "outputs": [],
   "source": [
    "inventory = [\"twin bed\", \"twin bed\", \"headboard\", \"queen bed\", \"king bed\", \"dresser\", \"dresser\", \"table\", \"table\", \"nightstand\", \"nightstand\", \"king bed\", \"king bed\", \"twin bed\", \"twin bed\", \"sheets\", \"sheets\", \"pillow\", \"pillow\"]\n",
    "\n",
    "# Total Items in inventory\n",
    "inventory_len = len(inventory)\n",
    "\n",
    "# Select first element in inventory \n",
    "first = inventory[0]\n",
    "\n",
    "# Select the last element\n",
    "last = inventory[-1]\n",
    "\n",
    "# Select items in index 2-5\n",
    "inventory_2_6 = inventory[2:6]\n",
    "\n",
    "# Select first 3 items\n",
    "first_3 = inventory[:3]\n",
    "\n",
    "# Count number of twin bed's\n",
    "twin_beds = inventory.count(\"twin bed\")\n",
    "\n",
    "# Remove the 5th element \n",
    "removed_item = inventory.pop(4)\n",
    "\n",
    "# Add item \n",
    "inventory.insert(10,\"19th Century Bed Frame\")\n",
    "\n",
    "# Sort inventory\n",
    "inventory.sort()"
   ]
  },
  {
   "cell_type": "code",
   "execution_count": 19,
   "metadata": {},
   "outputs": [
    {
     "name": "stdout",
     "output_type": "stream",
     "text": [
      "We sell 7 different kinds of pizza!\n",
      "[[2, 'pepperoni'], [6, 'pineapple'], [1, 'cheese'], [3, 'sausage'], [2, 'olives'], [7, 'anchovies'], [2, 'mushrooms']]\n",
      "[[1, 'cheese'], [2, 'mushrooms'], [2, 'olives'], [2, 'pepperoni'], [3, 'sausage'], [6, 'pineapple'], [7, 'anchovies']]\n",
      "[1, 'cheese']\n",
      "[7, 'anchovies']\n",
      "[[1, 'cheese'], [2, 'mushrooms'], [2, 'olives'], [2, 'pepperoni'], [3, 'sausage'], [6, 'pineapple']]\n",
      "[[1, 'cheese'], [2, 'mushrooms'], [2, 'olives'], [2, 'pepperoni'], [2.5, 'peppers'], [3, 'sausage'], [6, 'pineapple']]\n"
     ]
    }
   ],
   "source": [
    "#Created list of toppings\n",
    "toppings = [\"pepperoni\", \"pineapple\", \"cheese\", \"sausage\", \"olives\", \"anchovies\", \"mushrooms\"]\n",
    "#Created list of prices\n",
    "prices = [2,6,1,3,2,7,2]\n",
    "\n",
    "#Count of 2 in prices\n",
    "num_two_dollar_slices = prices.count(2)\n",
    "\n",
    "#Length of toppings \n",
    "num_pizzas = len(toppings)\n",
    "\n",
    "print(\"We sell \" + str(num_pizzas) +  \" different kinds of pizza!\")\n",
    "\n",
    "#Created a combined list\n",
    "pizza_and_prices = [[2,\"pepperoni\"],[6,\"pineapple\"],[1,\"cheese\"],[3,\"sausage\"],[2,\"olives\"],[7,\"anchovies\"],[2,\"mushrooms\"]]\n",
    "print(pizza_and_prices)\n",
    "\n",
    "#Sorted the list by prices asc \n",
    "pizza_and_prices.sort()\n",
    "print(pizza_and_prices)\n",
    "\n",
    "#Cheapest Pizza\n",
    "cheapest_pizza = pizza_and_prices[0]\n",
    "print(cheapest_pizza)\n",
    "\n",
    "#Most expensive pizza\n",
    "priciest_pizza = pizza_and_prices[-1]\n",
    "print(priciest_pizza)\n",
    "\n",
    "#Remove the last element \n",
    "pizza_and_prices.pop()\n",
    "print(pizza_and_prices)\n",
    "\n",
    "#Add peppers pizza \n",
    "pizza_and_prices.append([2.5,\"peppers\"])\n",
    "pizza_and_prices.sort()\n",
    "print(pizza_and_prices)"
   ]
  },
  {
   "cell_type": "markdown",
   "metadata": {},
   "source": [
    "Tuples are immutable once they are created they cannot be changed  "
   ]
  },
  {
   "cell_type": "code",
   "execution_count": 21,
   "metadata": {},
   "outputs": [
    {
     "name": "stdout",
     "output_type": "stream",
     "text": [
      "(27, 10, 15, 'Blue')\n"
     ]
    }
   ],
   "source": [
    "my_info = (27, 10, 15, \"Blue\")\n",
    "print(my_info)"
   ]
  },
  {
   "cell_type": "code",
   "execution_count": 22,
   "metadata": {},
   "outputs": [
    {
     "name": "stdout",
     "output_type": "stream",
     "text": [
      "[('Jenny', 61), ('Alexus', 70), ('Sam', 67), ('Grace', 64)]\n"
     ]
    }
   ],
   "source": [
    "#Creating two individual lists\n",
    "names = [\"Jenny\", \"Alexus\", \"Sam\", \"Grace\"]\n",
    "heights = [61, 70, 67, 64]\n",
    "\n",
    "#Using zip function to merge the lists\n",
    "names_and_heights = zip(names, heights)\n",
    "\n",
    "#Converted into a Tuple \n",
    "converted_list = list(names_and_heights)\n",
    "print(converted_list)"
   ]
  },
  {
   "cell_type": "markdown",
   "metadata": {},
   "source": [
    "#### Loops"
   ]
  },
  {
   "cell_type": "code",
   "execution_count": null,
   "metadata": {},
   "outputs": [],
   "source": [
    "sport_games = [\"football\", \"hockey\", \"baseball\", \"cricket\"]\n",
    "\n",
    "#For loop goes through all elements in sport_games and prints them out \n",
    "for sport in sport_games:\n",
    "  print(sport)\n"
   ]
  },
  {
   "cell_type": "code",
   "execution_count": 23,
   "metadata": {},
   "outputs": [
    {
     "name": "stdout",
     "output_type": "stream",
     "text": [
      "I will finish the python loops module!\n",
      "I will finish the python loops module!\n",
      "I will finish the python loops module!\n",
      "I will finish the python loops module!\n",
      "I will finish the python loops module!\n"
     ]
    }
   ],
   "source": [
    "promise = \"I will finish the python loops module!\"\n",
    "\n",
    "#Print the string promise 5 times\n",
    "for temp in range(5):\n",
    "  print(promise)"
   ]
  },
  {
   "cell_type": "code",
   "execution_count": 24,
   "metadata": {},
   "outputs": [
    {
     "name": "stdout",
     "output_type": "stream",
     "text": [
      "10\n",
      "9\n",
      "8\n",
      "7\n",
      "6\n",
      "5\n",
      "4\n",
      "3\n",
      "2\n",
      "1\n",
      "0\n",
      "We have liftoff!\n"
     ]
    }
   ],
   "source": [
    "#Counts down from 10 until liftoff \n",
    "countdown = 10\n",
    "\n",
    "while countdown >= 0:\n",
    "  print(countdown)\n",
    "  countdown -= 1\n",
    "print(\"We have liftoff!\")"
   ]
  },
  {
   "cell_type": "code",
   "execution_count": 25,
   "metadata": {},
   "outputs": [
    {
     "name": "stdout",
     "output_type": "stream",
     "text": [
      "I am learning about variables\n",
      "I am learning about control flow\n",
      "I am learning about loops\n",
      "I am learning about modules\n",
      "I am learning about classes\n"
     ]
    }
   ],
   "source": [
    "python_topics = [\"variables\", \"control flow\", \"loops\", \"modules\", \"classes\"]\n",
    "\n",
    "#Using while loop to interate through a list \n",
    "length = len(python_topics)\n",
    "index = 0\n",
    "\n",
    "while index < length:\n",
    "  print(\"I am learning about \" + python_topics[index])\n",
    "  index += 1"
   ]
  },
  {
   "cell_type": "code",
   "execution_count": 26,
   "metadata": {},
   "outputs": [
    {
     "name": "stdout",
     "output_type": "stream",
     "text": [
      "french_bulldog\n",
      "dalmatian\n",
      "They have the dog I want!\n"
     ]
    }
   ],
   "source": [
    "#For loop goes through the list until it finds the wanted dog breed using break to stop \n",
    "dog_breeds_available_for_adoption = [\"french_bulldog\", \"dalmatian\", \"shihtzu\", \"poodle\", \"collie\"]\n",
    "dog_breed_I_want = \"dalmatian\"\n",
    "\n",
    "\n",
    "for dog_breed in dog_breeds_available_for_adoption:\n",
    "  print(dog_breed)\n",
    "  if dog_breed == dog_breed_I_want:\n",
    "    print(\"They have the dog I want!\")\n",
    "    break"
   ]
  },
  {
   "cell_type": "code",
   "execution_count": 28,
   "metadata": {},
   "outputs": [
    {
     "name": "stdout",
     "output_type": "stream",
     "text": [
      "38\n",
      "34\n",
      "26\n",
      "21\n",
      "67\n",
      "41\n"
     ]
    }
   ],
   "source": [
    "#For loop goes through ages and prints the age if its greater than 21\n",
    "ages = [12, 38, 34, 26, 21, 19, 67, 41, 17]\n",
    "\n",
    "for age in ages:\n",
    "  if age < 21:\n",
    "    continue\n",
    "  print(age)"
   ]
  },
  {
   "cell_type": "code",
   "execution_count": 27,
   "metadata": {},
   "outputs": [
    {
     "name": "stdout",
     "output_type": "stream",
     "text": [
      "[12, 17, 22]\n",
      "[2, 10, 3]\n",
      "[5, 12, 13]\n",
      "96\n"
     ]
    }
   ],
   "source": [
    "#For loop iterates through the sales data list and through the sublists \n",
    "sales_data = [[12, 17, 22], [2, 10, 3], [5, 12, 13]]\n",
    "\n",
    "scoops_sold = 0\n",
    "\n",
    "for location in sales_data:\n",
    "  print(location)\n",
    "  for sales in location:\n",
    "    scoops_sold += sales\n",
    "    \n",
    "print(scoops_sold)"
   ]
  },
  {
   "cell_type": "code",
   "execution_count": 29,
   "metadata": {},
   "outputs": [
    {
     "name": "stdout",
     "output_type": "stream",
     "text": [
      "[100, 98, 72, 86, 84, 99, 58, 67]\n"
     ]
    }
   ],
   "source": [
    "#Using list comprehension to iterate through a list\n",
    "grades = [90, 88, 62, 76, 74, 89, 48, 57]\n",
    "\n",
    "scaled_grades = [num + 10 for num in grades]\n",
    "print(scaled_grades)"
   ]
  },
  {
   "cell_type": "code",
   "execution_count": 30,
   "metadata": {},
   "outputs": [
    {
     "name": "stdout",
     "output_type": "stream",
     "text": [
      "[164, 170, 163, 163]\n"
     ]
    }
   ],
   "source": [
    "heights = [161, 164, 156, 144, 158, 170, 163, 163, 157]\n",
    "\n",
    "# List comprehension that adds any heights > 161\n",
    "can_ride_coaster = [num for num in heights if num > 161]\n",
    "print(can_ride_coaster)"
   ]
  },
  {
   "cell_type": "code",
   "execution_count": 31,
   "metadata": {},
   "outputs": [
    {
     "name": "stdout",
     "output_type": "stream",
     "text": [
      "0\n",
      "1\n",
      "2\n",
      "3\n",
      "4\n",
      "5\n",
      "6\n",
      "7\n",
      "8\n",
      "9\n",
      "[0, 1, 4, 9, 16, 25, 36, 49, 64, 81]\n",
      "[0, 1, 8, 27, 64, 125, 216, 343, 512, 729]\n"
     ]
    }
   ],
   "source": [
    "#Creating list 0-9\n",
    "single_digits = range(10)\n",
    "squares = []\n",
    "cubes = [num ** 3 for num in single_digits]\n",
    "\n",
    "#Using for loop to iterate through and print the numbers in list\n",
    "for num in single_digits:\n",
    "  squares.append(num ** 2)\n",
    "  print(num)\n",
    "\n",
    "print(squares)\n",
    "\n",
    "print(cubes)"
   ]
  },
  {
   "cell_type": "code",
   "execution_count": 32,
   "metadata": {},
   "outputs": [
    {
     "name": "stdout",
     "output_type": "stream",
     "text": [
      "Average Haircut Price: 31.875\n",
      "[25, 20, 35, 15, 15, 30, 45, 30]\n",
      "Total Revenue: 1085\n",
      "['bouffant', 'pixie', 'crew', 'bowl']\n"
     ]
    }
   ],
   "source": [
    "hairstyles = [\"bouffant\", \"pixie\", \"dreadlocks\", \"crew\", \"bowl\", \"bob\", \"mohawk\", \"flattop\"]\n",
    "\n",
    "prices = [30, 25, 40, 20, 20, 35, 50, 35]\n",
    "\n",
    "last_week = [2, 3, 5, 8, 4, 4, 6, 2]\n",
    "\n",
    "#Iterate through prices to get the sum\n",
    "total_price = 0\n",
    "for price in prices:\n",
    "  total_price += price\n",
    "\n",
    "#Calculate the average using len\n",
    "average_price = total_price / len(prices)\n",
    "print(\"Average Haircut Price: \" + str(average_price))\n",
    "\n",
    "#Cut prices by $5 usling list comprehension\n",
    "new_prices = [num - 5 for num in prices]\n",
    "print(new_prices)\n",
    "\n",
    "#Calculate the toal revenue \n",
    "total_revenue = 0\n",
    "for i in range(0,len(hairstyles)):\n",
    "  total_revenue = (prices[i] * last_week[i]) + total_revenue\n",
    "\n",
    "print(\"Total Revenue: \" + str(total_revenue))\n",
    "\n",
    "#Calculate the average daily revenue\n",
    "average_daily_revenue = total_revenue / 7\n",
    "\n",
    "#Created a list with cuts under $30\n",
    "cuts_under_30 = [hairstyles[i] for i in range(0,len(new_prices)-1) if new_prices[i] < 30]\n",
    "print(cuts_under_30)\n"
   ]
  },
  {
   "cell_type": "markdown",
   "metadata": {},
   "source": [
    "#### Functions"
   ]
  },
  {
   "cell_type": "code",
   "execution_count": 33,
   "metadata": {},
   "outputs": [
    {
     "name": "stdout",
     "output_type": "stream",
     "text": [
      "Walk 4 mins to 34th St Herald Square train station.\n",
      "Take the Northbound N, Q, R, or W train 1 stop.\n",
      "Get off the Times Square 42nd Street stop.\n"
     ]
    }
   ],
   "source": [
    "def directions_to_timesSq():\n",
    "  print(\"Walk 4 mins to 34th St Herald Square train station.\")\n",
    "  print(\"Take the Northbound N, Q, R, or W train 1 stop.\")\n",
    "  print(\"Get off the Times Square 42nd Street stop.\")\n",
    "\n",
    "# Call your function here:\n",
    "directions_to_timesSq()"
   ]
  },
  {
   "cell_type": "code",
   "execution_count": 34,
   "metadata": {},
   "outputs": [
    {
     "data": {
      "text/plain": [
       "1190"
      ]
     },
     "execution_count": 34,
     "metadata": {},
     "output_type": "execute_result"
    }
   ],
   "source": [
    "#Creating a function with multiple arguments \n",
    "def calculate_expenses(plane_ticket_price, car_rental_rate, hotel_rate, trip_time):\n",
    "  car_rental_total = car_rental_rate * trip_time\n",
    "  hotel_total = hotel_rate * trip_time - 10\n",
    "  trip_total = car_rental_total + hotel_total + plane_ticket_price\n",
    "\n",
    "  return trip_total\n",
    "\n",
    "# Step 5: call your function\n",
    "calculate_expenses(200,100,100,5)"
   ]
  },
  {
   "cell_type": "code",
   "execution_count": 35,
   "metadata": {},
   "outputs": [
    {
     "name": "stdout",
     "output_type": "stream",
     "text": [
      "Here is what your trip will look like!\n",
      "First, we will stop in France, then Germany, and lastly Denmark\n",
      "Here is what your trip will look like!\n",
      "First, we will stop in Denmark, then France, and lastly Germany\n",
      "Here is what your trip will look like!\n",
      "First, we will stop in Iceland, then India, and lastly Germany\n",
      "Here is what your trip will look like!\n",
      "First, we will stop in Brooklyn, then Queens, and lastly Codecademy HQ\n"
     ]
    }
   ],
   "source": [
    "# Function that has a default parameter \n",
    "def trip_planner(first_destination,second_destination, final_destination = \"Codecademy HQ\"):\n",
    "  print(\"Here is what your trip will look like!\")\n",
    "  print(\"First, we will stop in \" + first_destination + \", then \" + second_destination + \", and lastly \" + final_destination)\n",
    "\n",
    "#Calling function using positional, keyword and default arguments \n",
    "trip_planner(\"France\", \"Germany\", \"Denmark\")\n",
    "trip_planner(\"Denmark\", \"France\", \"Germany\")\n",
    "trip_planner(first_destination = \"Iceland\", final_destination = \"Germany\", second_destination = \"India\")\n",
    "trip_planner(\"Brooklyn\", \"Queens\")"
   ]
  },
  {
   "cell_type": "code",
   "execution_count": 36,
   "metadata": {},
   "outputs": [
    {
     "name": "stdout",
     "output_type": "stream",
     "text": [
      "15.5\n",
      "2.0\n",
      "9.8\n"
     ]
    }
   ],
   "source": [
    "tshirt_price = 9.75\n",
    "shorts_price = 15.50\n",
    "mug_price = 5.99\n",
    "poster_price = 2.00\n",
    "\n",
    "#Using built in functions \n",
    "max_price = max(tshirt_price, shorts_price,mug_price,poster_price)\n",
    "print(max_price)\n",
    "\n",
    "min_price = min(tshirt_price, shorts_price,mug_price,poster_price)\n",
    "print(min_price)\n",
    "\n",
    "rounded_price = round(tshirt_price,1)\n",
    "print(rounded_price)"
   ]
  },
  {
   "cell_type": "code",
   "execution_count": 37,
   "metadata": {},
   "outputs": [
    {
     "name": "stdout",
     "output_type": "stream",
     "text": [
      "Your remaining budget is: $3500.75\n",
      "Your remaining budget is: $3491.75\n"
     ]
    }
   ],
   "source": [
    "current_budget = 3500.75\n",
    "shirt_expense = 9\n",
    "\n",
    "def print_remaining_budget(budget):\n",
    "  print(\"Your remaining budget is: $\" + str(budget))\n",
    "\n",
    "print_remaining_budget(current_budget)\n",
    "\n",
    "# Write your code below: \n",
    "def deduct_expense(budget, expense):\n",
    "  return budget - expense\n",
    "\n",
    "new_budget_after_shirt = deduct_expense(current_budget,shirt_expense)\n",
    "\n",
    "print_remaining_budget(new_budget_after_shirt)"
   ]
  },
  {
   "cell_type": "code",
   "execution_count": 40,
   "metadata": {},
   "outputs": [
    {
     "name": "stdout",
     "output_type": "stream",
     "text": [
      "Rome\n",
      "Venice\n",
      "Florence\n"
     ]
    }
   ],
   "source": [
    "def top_tourist_locations_italy():\n",
    "  first = \"Rome\"\n",
    "  second = \"Venice\"\n",
    "  third = \"Florence\"\n",
    "  return first, second, third\n",
    "\n",
    "#Storing multiple return values\n",
    "most_popular1, most_popular2, most_popular3  = top_tourist_locations_italy()\n",
    "print(most_popular1)\n",
    "print(most_popular2)\n",
    "print(most_popular3)"
   ]
  },
  {
   "cell_type": "code",
   "execution_count": 41,
   "metadata": {},
   "outputs": [
    {
     "name": "stdout",
     "output_type": "stream",
     "text": [
      "Welcome to tripplanner v1.0 Agustin\n",
      "Your trip starts off in Chicago\n",
      "And you are traveling to Barcelona\n",
      "You will be traveling by Plane\n",
      "It will take approximately 6 hours\n"
     ]
    }
   ],
   "source": [
    "def trip_planner_welcome(name):\n",
    "  print(\"Welcome to tripplanner v1.0 \" + name)\n",
    "\n",
    "def estimated_time_rounded(estimated_time):\n",
    "  rounded_time = round(estimated_time)\n",
    "  return rounded_time\n",
    "\n",
    "def destination_setup(origin, destination, estimated_time, mode_of_transport = \"Car\"):\n",
    "  print(\"Your trip starts off in \" + origin)\n",
    "  print(\"And you are traveling to \" + destination)\n",
    "  print(\"You will be traveling by \" + mode_of_transport)\n",
    "  print(\"It will take approximately \" + str(estimated_time) + \" hours\")\n",
    "\n",
    "trip_planner_welcome(\"Agustin\")\n",
    "estimate = estimated_time_rounded(5.5)\n",
    "destination_setup(\"Chicago\", \"Barcelona\", estimate, \"Plane\")"
   ]
  },
  {
   "cell_type": "code",
   "execution_count": 42,
   "metadata": {},
   "outputs": [
    {
     "name": "stdout",
     "output_type": "stream",
     "text": [
      "37.77777777777778\n",
      "32.0\n",
      "The GE train supplies 226800 Newtons of force \n",
      "A 1Kg bomb supplies 90000000000000000 Joules\n",
      "The GE train does 22680000 Joules of work over 100 meters.\n"
     ]
    }
   ],
   "source": [
    "# Uncomment this when you reach the \"Use the Force\" section\n",
    "train_mass = 22680\n",
    "train_acceleration = 10\n",
    "train_distance = 100\n",
    "bomb_mass = 1\n",
    "\n",
    "\n",
    "# Converts F to C \n",
    "def f_to_c(f_temp):\n",
    "  c_temp = (f_temp-32) * 5/9\n",
    "  return c_temp\n",
    "\n",
    "f100_in_celsius = f_to_c(100)\n",
    "print(f100_in_celsius)\n",
    "\n",
    "# Converts C to F \n",
    "def c_to_f(c_temp):\n",
    "  f_temp = (c_temp * 9/5 + 32)\n",
    "  return f_temp\n",
    "\n",
    "c0_in_fahrenheit = c_to_f(0)\n",
    "print(c0_in_fahrenheit)\n",
    "\n",
    "\n",
    "# Calculates force of a train\n",
    "def get_force(mass, acceleration):\n",
    "  return mass * acceleration\n",
    "\n",
    "train_force = get_force(train_mass, train_acceleration) \n",
    "print(\"The GE train supplies \" +str(train_force)+ \" Newtons of force \")\n",
    "\n",
    "\n",
    "def get_energy(mass, c = 3*10**8):\n",
    "  return ((mass * c) **2)\n",
    "  \n",
    "bomb_energy = get_energy(bomb_mass)\n",
    "print(\"A 1Kg bomb supplies \" + str(bomb_energy) + \" Joules\")\n",
    "\n",
    "def get_work(mass, acceleration, distance):\n",
    "  return (get_force(mass, acceleration) * distance)\n",
    "\n",
    "train_work = get_work(train_mass, train_acceleration, train_distance)\n",
    "print(\"The GE train does \" + str(train_work) + \" Joules of work over \" + str(train_distance) + \" meters.\")"
   ]
  },
  {
   "cell_type": "markdown",
   "metadata": {},
   "source": [
    "#### Strings"
   ]
  },
  {
   "cell_type": "code",
   "execution_count": 43,
   "metadata": {},
   "outputs": [
    {
     "name": "stdout",
     "output_type": "stream",
     "text": [
      "A\n"
     ]
    }
   ],
   "source": [
    "#Saving firt letter of a string\n",
    "my_name = \"Agustin\"\n",
    "first_initial = my_name[0]\n",
    "\n",
    "print(first_initial)"
   ]
  },
  {
   "cell_type": "code",
   "execution_count": 44,
   "metadata": {},
   "outputs": [
    {
     "name": "stdout",
     "output_type": "stream",
     "text": [
      "Villa\n",
      "llan\n"
     ]
    }
   ],
   "source": [
    "#Slicing Strings\n",
    "first_name = \"Rodrigo\"\n",
    "last_name = \"Villanueva\"\n",
    "\n",
    "new_account = last_name[0:5]\n",
    "temp_password = last_name[2:6]\n",
    "\n",
    "print(new_account)\n",
    "print(temp_password)"
   ]
  },
  {
   "cell_type": "code",
   "execution_count": 45,
   "metadata": {},
   "outputs": [
    {
     "name": "stdout",
     "output_type": "stream",
     "text": [
      "JulBle\n"
     ]
    }
   ],
   "source": [
    "#Slicing and concatenating  strings\n",
    "first_name = \"Julie\"\n",
    "last_name = \"Blevins\"\n",
    "\n",
    "def account_generator(first_name, last_name):\n",
    "  return first_name[0:3] + last_name[0:3]\n",
    "\n",
    "new_account = account_generator(first_name,last_name)\n",
    "print(new_account)"
   ]
  },
  {
   "cell_type": "code",
   "execution_count": 46,
   "metadata": {},
   "outputs": [
    {
     "name": "stdout",
     "output_type": "stream",
     "text": [
      "ikouki\n"
     ]
    }
   ],
   "source": [
    "#Slicing and concatenating  strings\n",
    "first_name = \"Reiko\"\n",
    "last_name = \"Matsuki\"\n",
    "\n",
    "def password_generator(first_name, last_name):\n",
    "  return first_name[len(first_name)-3:] + last_name[len(last_name)-3:]\n",
    "\n",
    "temp_password = password_generator(first_name, last_name)\n",
    "print(temp_password)"
   ]
  },
  {
   "cell_type": "code",
   "execution_count": 47,
   "metadata": {},
   "outputs": [],
   "source": [
    "#Using negative indexes\n",
    "company_motto = \"Copeland's Corporate Company helps you capably cope with the constant cacophony of daily life\"\n",
    "\n",
    "second_to_last = company_motto[-2]\n",
    "final_word = company_motto[-4:]"
   ]
  },
  {
   "cell_type": "code",
   "execution_count": 48,
   "metadata": {},
   "outputs": [
    {
     "name": "stdout",
     "output_type": "stream",
     "text": [
      "Rob\n"
     ]
    }
   ],
   "source": [
    "#String are immutable and cannot be changed once created\n",
    "first_name = \"Bob\"\n",
    "last_name = \"Daily\"\n",
    "\n",
    "fixed_first_name = \"R\" + first_name[1:]\n",
    "print(fixed_first_name)"
   ]
  },
  {
   "cell_type": "code",
   "execution_count": 49,
   "metadata": {},
   "outputs": [
    {
     "name": "stdout",
     "output_type": "stream",
     "text": [
      "5\n"
     ]
    }
   ],
   "source": [
    "#Iterating through a string and calculating length without len()\n",
    "def get_length(example):\n",
    "  count = 0\n",
    "  for word in example:\n",
    "    count += 1\n",
    "  return count\n",
    "\n",
    "print(get_length(\"Hello\"))"
   ]
  },
  {
   "cell_type": "code",
   "execution_count": 50,
   "metadata": {},
   "outputs": [
    {
     "name": "stdout",
     "output_type": "stream",
     "text": [
      "True\n"
     ]
    }
   ],
   "source": [
    "#Checks to see if letter in word \n",
    "def letter_check(word, letter):\n",
    "  if letter in word:\n",
    "    return True\n",
    "  else:\n",
    "    return False\n",
    "\n",
    "print(letter_check(\"Hello\", \"H\"))"
   ]
  },
  {
   "cell_type": "code",
   "execution_count": 51,
   "metadata": {},
   "outputs": [
    {
     "name": "stdout",
     "output_type": "stream",
     "text": [
      "True\n",
      "['C', 'a']\n"
     ]
    }
   ],
   "source": [
    "#Finds if little string is in big string \n",
    "def contains(big_string, little_string):\n",
    "  return little_string in big_string\n",
    "\n",
    "#Function is given two string finds the unique characters that are shared \n",
    "def common_letters(string_one, string_two):\n",
    "  example = []\n",
    "  for element in string_one:\n",
    "    if element in string_two and element not in example:\n",
    "      example.append(element)\n",
    "  return example\n",
    "\n",
    "\n",
    "print(contains(\"Chicago\",\"go\"))\n",
    "print(common_letters(\"Chicago\", \"Cleveland\"))"
   ]
  },
  {
   "cell_type": "code",
   "execution_count": 52,
   "metadata": {},
   "outputs": [
    {
     "name": "stdout",
     "output_type": "stream",
     "text": [
      "AguVill\n",
      "nAgusti\n"
     ]
    }
   ],
   "source": [
    "#Function that creates username using FN and LN \n",
    "def username_generator(first_name, last_name):\n",
    "  username = first_name[:3] + last_name[:4]\n",
    "  return username\n",
    "\n",
    "\n",
    "#Takes a username and creates a password my shifting characters to the right \n",
    "def password_generator(user_name):\n",
    "  password = \"\"\n",
    "  for x in range(-1,len(user_name)-1):\n",
    "    password = password + user_name[x]\n",
    "  return password\n",
    "\n",
    "\n",
    "print(username_generator(\"Agustin\", \"Villa\"))\n",
    "print(password_generator(\"Agustin\"))"
   ]
  },
  {
   "cell_type": "code",
   "execution_count": 53,
   "metadata": {},
   "outputs": [
    {
     "name": "stdout",
     "output_type": "stream",
     "text": [
      "spring storm\n",
      "Spring Storm\n",
      "William Carlos Williams\n",
      "WILLIAM CARLOS WILLIAMS\n"
     ]
    }
   ],
   "source": [
    "poem_title = \"spring storm\"\n",
    "poem_author = \"William Carlos Williams\"\n",
    "\n",
    "#Uses title() to correct existing string \n",
    "poem_title_fixed = poem_title.title()\n",
    "print(poem_title)\n",
    "print(poem_title_fixed)\n",
    "\n",
    "#Creates a new string using upper \n",
    "poem_author_fixed = poem_author.upper()\n",
    "print(poem_author)\n",
    "print(poem_author_fixed)"
   ]
  },
  {
   "cell_type": "code",
   "execution_count": 54,
   "metadata": {},
   "outputs": [
    {
     "name": "stdout",
     "output_type": "stream",
     "text": [
      "['The', 'sky', 'has', 'given', 'over']\n"
     ]
    }
   ],
   "source": [
    "#split() returns substrings found between the argument \n",
    "line_one = \"The sky has given over\"\n",
    "\n",
    "line_one_words = line_one.split()\n",
    "print(line_one_words)"
   ]
  },
  {
   "cell_type": "code",
   "execution_count": 55,
   "metadata": {},
   "outputs": [
    {
     "name": "stdout",
     "output_type": "stream",
     "text": [
      "['Audre Lorde', 'Gabriela Mistral', 'Jean Toomer', 'An Qi', 'Walt Whitman', 'Shel Silverstein', 'Carmen Boullosa', 'Kamala Suraiyya', 'Langston Hughes', 'Adrienne Rich', 'Nikki Giovanni']\n",
      "['Lorde', 'Mistral', 'Toomer', 'Qi', 'Whitman', 'Silverstein', 'Boullosa', 'Suraiyya', 'Hughes', 'Rich', 'Giovanni']\n"
     ]
    }
   ],
   "source": [
    "authors = \"Audre Lorde,Gabriela Mistral,Jean Toomer,An Qi,Walt Whitman,Shel Silverstein,Carmen Boullosa,Kamala Suraiyya,Langston Hughes,Adrienne Rich,Nikki Giovanni\"\n",
    "\n",
    "#Splits authors by ,\n",
    "author_names = authors.split(\",\")\n",
    "print(author_names)\n",
    "\n",
    "\n",
    "#Grabs only the last names \n",
    "author_last_names = []\n",
    "temp = []\n",
    "for x in author_names:\n",
    "  temp.append(x.split())\n",
    "for x in temp:\n",
    "  author_last_names.append(x[-1])\n",
    "\n",
    "print(author_last_names)"
   ]
  },
  {
   "cell_type": "code",
   "execution_count": 56,
   "metadata": {},
   "outputs": [
    {
     "name": "stdout",
     "output_type": "stream",
     "text": [
      "['The sky has given over ', 'its bitterness. ', 'Out of the dark change ', 'all day long ', 'rain falls and falls ', 'as if it would never end. ', 'Still the snow keeps ', 'its hold on the ground. ', 'But water, water ', 'from a thousand runnels! ', 'It collects swiftly, ', 'dappled with black ', 'cuts a way for itself ', 'through green ice in the gutters. ', 'Drop after drop it falls ', 'from the withered grass-stems ', 'of the overhanging embankment.']\n"
     ]
    }
   ],
   "source": [
    "spring_storm_text = \\\n",
    "\"\"\"The sky has given over \n",
    "its bitterness. \n",
    "Out of the dark change \n",
    "all day long \n",
    "rain falls and falls \n",
    "as if it would never end. \n",
    "Still the snow keeps \n",
    "its hold on the ground. \n",
    "But water, water \n",
    "from a thousand runnels! \n",
    "It collects swiftly, \n",
    "dappled with black \n",
    "cuts a way for itself \n",
    "through green ice in the gutters. \n",
    "Drop after drop it falls \n",
    "from the withered grass-stems \n",
    "of the overhanging embankment.\"\"\"\n",
    "\n",
    "\n",
    "#Splits the text by new line \\n\n",
    "spring_storm_lines = spring_storm_text.split(\"\\n\")\n",
    "print(spring_storm_lines)"
   ]
  },
  {
   "cell_type": "code",
   "execution_count": 58,
   "metadata": {},
   "outputs": [
    {
     "name": "stdout",
     "output_type": "stream",
     "text": [
      "Black reapers with the sound of steel on stones\n"
     ]
    }
   ],
   "source": [
    "#Joining elements of an array\n",
    "reapers_line_one_words = [\"Black\", \"reapers\", \"with\", \"the\", \"sound\", \"of\", \"steel\", \"on\", \"stones\"]\n",
    "\n",
    "reapers_line_one = \" \".join(reapers_line_one_words)\n",
    "print(reapers_line_one)"
   ]
  },
  {
   "cell_type": "code",
   "execution_count": null,
   "metadata": {},
   "outputs": [],
   "source": [
    "#Joings winter_trees_lines using \n",
    "winter_trees_lines = ['All the complicated details', 'of the attiring and', 'the disattiring are completed!', 'A liquid moon', 'moves gently among', 'the long branches.', 'Thus having prepared their buds', 'against a sure winter', 'the wise trees', 'stand sleeping in the cold.']\n",
    "\n",
    "winter_trees_full = \"\\n\".join(winter_trees_lines)\n",
    "print(winter_trees_full)"
   ]
  },
  {
   "cell_type": "code",
   "execution_count": 59,
   "metadata": {},
   "outputs": [
    {
     "name": "stdout",
     "output_type": "stream",
     "text": [
      "Always\n",
      "in the middle of our bloodiest battles\n",
      "you lay down your arms\n",
      "like flowering mines\n",
      "\n",
      "to conquer me home.\n"
     ]
    }
   ],
   "source": [
    "love_maybe_lines = ['Always    ', '     in the middle of our bloodiest battles  ', 'you lay down your arms', '           like flowering mines    ','\\n' ,'   to conquer me home.    ']\n",
    "\n",
    "#Strip whitespace\n",
    "love_maybe_lines_stripped = []\n",
    "for x in love_maybe_lines:\n",
    "  love_maybe_lines_stripped.append(x.strip())\n",
    "\n",
    "\n",
    "# Join the lines in love_maybe_lines_stripped \n",
    "love_maybe_full = \"\\n\".join(love_maybe_lines_stripped)\n",
    "print(love_maybe_full)"
   ]
  },
  {
   "cell_type": "code",
   "execution_count": 60,
   "metadata": {},
   "outputs": [
    {
     "name": "stdout",
     "output_type": "stream",
     "text": [
      "\n",
      "Nathan Pinchback Toomer, who adopted the name Jean Toomer early in his literary career, was born in Washington, D.C. in 1894. Jean is the son of Nathan Toomer was a mixed-race freedman, born into slavery in 1839 in Chatham County, North Carolina. Jean Toomer is most well known for his first book Cane, which vividly portrays the life of African-Americans in southern farmlands.\n",
      "\n"
     ]
    }
   ],
   "source": [
    "toomer_bio = \\\n",
    "\"\"\"\n",
    "Nathan Pinchback Tomer, who adopted the name Jean Tomer early in his literary career, was born in Washington, D.C. in 1894. Jean is the son of Nathan Tomer was a mixed-race freedman, born into slavery in 1839 in Chatham County, North Carolina. Jean Tomer is most well known for his first book Cane, which vividly portrays the life of African-Americans in southern farmlands.\n",
    "\"\"\"\n",
    "\n",
    "#Use replace to correct tomer to toomer \n",
    "toomer_bio_fixed = toomer_bio.replace(\"Tomer\", \"Toomer\")\n",
    "print(toomer_bio_fixed)"
   ]
  },
  {
   "cell_type": "code",
   "execution_count": 61,
   "metadata": {},
   "outputs": [
    {
     "name": "stdout",
     "output_type": "stream",
     "text": [
      "20\n"
     ]
    }
   ],
   "source": [
    "god_wills_it_line_one = \"The very earth will disown you\"\n",
    "\n",
    "#Find index of substring \n",
    "disown_placement = god_wills_it_line_one.find(\"disown\")\n",
    "print(disown_placement)"
   ]
  },
  {
   "cell_type": "code",
   "execution_count": null,
   "metadata": {},
   "outputs": [],
   "source": [
    "#Using formatting \n",
    "def poem_title_card(title, poet):\n",
    "  return(\"The poem \\\"{}\\\" is written by {}.\".format(title,poet))\n",
    "\n",
    "print(poem_title_card(\"Harry Potter\", \"JK Rowling\"))"
   ]
  },
  {
   "cell_type": "code",
   "execution_count": 62,
   "metadata": {},
   "outputs": [
    {
     "name": "stdout",
     "output_type": "stream",
     "text": [
      "Afterimages:Audre Lorde:1997,  The Shadow:William Carlos Williams:1915, Ecstasy:Gabriela Mistral:1925,   Georgia Dusk:Jean Toomer:1923,   Parting Before Daybreak:An Qi:2014, The Untold Want:Walt Whitman:1871, Mr. Grumpledump's Song:Shel Silverstein:2004, Angel Sound Mexico City:Carmen Boullosa:2013, In Love:Kamala Suraiyya:1965, Dream Variations:Langston Hughes:1994, Dreamwood:Adrienne Rich:1987\n",
      "\n",
      "['Afterimages:Audre Lorde:1997', '  The Shadow:William Carlos Williams:1915', ' Ecstasy:Gabriela Mistral:1925', '   Georgia Dusk:Jean Toomer:1923', '   Parting Before Daybreak:An Qi:2014', ' The Untold Want:Walt Whitman:1871', \" Mr. Grumpledump's Song:Shel Silverstein:2004\", ' Angel Sound Mexico City:Carmen Boullosa:2013', ' In Love:Kamala Suraiyya:1965', ' Dream Variations:Langston Hughes:1994', ' Dreamwood:Adrienne Rich:1987']\n",
      "\n",
      "['Afterimages:Audre Lorde:1997', 'The Shadow:William Carlos Williams:1915', 'Ecstasy:Gabriela Mistral:1925', 'Georgia Dusk:Jean Toomer:1923', 'Parting Before Daybreak:An Qi:2014', 'The Untold Want:Walt Whitman:1871', \"Mr. Grumpledump's Song:Shel Silverstein:2004\", 'Angel Sound Mexico City:Carmen Boullosa:2013', 'In Love:Kamala Suraiyya:1965', 'Dream Variations:Langston Hughes:1994', 'Dreamwood:Adrienne Rich:1987']\n",
      "\n",
      "[['Afterimages', 'Audre Lorde', '1997'], ['The Shadow', 'William Carlos Williams', '1915'], ['Ecstasy', 'Gabriela Mistral', '1925'], ['Georgia Dusk', 'Jean Toomer', '1923'], ['Parting Before Daybreak', 'An Qi', '2014'], ['The Untold Want', 'Walt Whitman', '1871'], [\"Mr. Grumpledump's Song\", 'Shel Silverstein', '2004'], ['Angel Sound Mexico City', 'Carmen Boullosa', '2013'], ['In Love', 'Kamala Suraiyya', '1965'], ['Dream Variations', 'Langston Hughes', '1994'], ['Dreamwood', 'Adrienne Rich', '1987']]\n",
      "The poem Afterimages was published by Audre Lorde in 1997.\n",
      "The poem The Shadow was published by William Carlos Williams in 1915.\n",
      "The poem Ecstasy was published by Gabriela Mistral in 1925.\n",
      "The poem Georgia Dusk was published by Jean Toomer in 1923.\n",
      "The poem Parting Before Daybreak was published by An Qi in 2014.\n",
      "The poem The Untold Want was published by Walt Whitman in 1871.\n",
      "The poem Mr. Grumpledump's Song was published by Shel Silverstein in 2004.\n",
      "The poem Angel Sound Mexico City was published by Carmen Boullosa in 2013.\n",
      "The poem In Love was published by Kamala Suraiyya in 1965.\n",
      "The poem Dream Variations was published by Langston Hughes in 1994.\n",
      "The poem Dreamwood was published by Adrienne Rich in 1987.\n"
     ]
    }
   ],
   "source": [
    "highlighted_poems = \"Afterimages:Audre Lorde:1997,  The Shadow:William Carlos Williams:1915, Ecstasy:Gabriela Mistral:1925,   Georgia Dusk:Jean Toomer:1923,   Parting Before Daybreak:An Qi:2014, The Untold Want:Walt Whitman:1871, Mr. Grumpledump's Song:Shel Silverstein:2004, Angel Sound Mexico City:Carmen Boullosa:2013, In Love:Kamala Suraiyya:1965, Dream Variations:Langston Hughes:1994, Dreamwood:Adrienne Rich:1987\"\n",
    "\n",
    "print(highlighted_poems)\n",
    "\n",
    "\n",
    "#Split highlighted_poems by the ,\n",
    "highlighted_poems_list = highlighted_poems.split(\",\")\n",
    "print()\n",
    "print(highlighted_poems_list)\n",
    "\n",
    "#Removed whitespace from highlighted_poems_list\n",
    "highlighted_poems_stripped = []\n",
    "for x in highlighted_poems_list:\n",
    "  highlighted_poems_stripped.append(x.strip())\n",
    "print()\n",
    "print(highlighted_poems_stripped)\n",
    "\n",
    "#Split highlighted_poems_stripped at the :\n",
    "highlighted_poems_details = []\n",
    "for x in highlighted_poems_stripped:\n",
    "  highlighted_poems_details.append(x.split(\":\"))\n",
    "\n",
    "print()\n",
    "print(highlighted_poems_details)\n",
    "\n",
    "#Splits up highlighted_poems_details into titles, poets, and dates \n",
    "titles = []\n",
    "poets = []\n",
    "dates = []\n",
    "for x in highlighted_poems_details:\n",
    "  titles.append(x[0])\n",
    "  poets.append(x[1])\n",
    "  dates.append(x[2])\n",
    "\n",
    "for x in range(0,len(titles)):\n",
    "  print(\"The poem {title} was published by {poet} in {date}.\".format(title = titles[x], poet = poets[x], date = dates[x]))"
   ]
  },
  {
   "cell_type": "code",
   "execution_count": 63,
   "metadata": {},
   "outputs": [
    {
     "name": "stdout",
     "output_type": "stream",
     "text": [
      "28\n"
     ]
    }
   ],
   "source": [
    "daily_sales = \\\n",
    "\"\"\"Edith Mcbride   ;,;$1.21   ;,;   white ;,; \n",
    "09/15/17   ,Herbert Tran   ;,;   $7.29;,; \n",
    "white&blue;,;   09/15/17 ,Paul Clarke ;,;$12.52 \n",
    ";,;   white&blue ;,; 09/15/17 ,Lucille Caldwell   \n",
    ";,;   $5.13   ;,; white   ;,; 09/15/17,\n",
    "Eduardo George   ;,;$20.39;,; white&yellow \n",
    ";,;09/15/17   ,   Danny Mclaughlin;,;$30.82;,;   \n",
    "purple ;,;09/15/17 ,Stacy Vargas;,; $1.85   ;,; \n",
    "purple&yellow ;,;09/15/17,   Shaun Brock;,; \n",
    "$17.98;,;purple&yellow ;,; 09/15/17 , \n",
    "Erick Harper ;,;$17.41;,; blue ;,; 09/15/17, \n",
    "Michelle Howell ;,;$28.59;,; blue;,;   09/15/17   , \n",
    "Carroll Boyd;,; $14.51;,;   purple&blue   ;,;   \n",
    "09/15/17   , Teresa Carter   ;,; $19.64 ;,; \n",
    "white;,;09/15/17   ,   Jacob Kennedy ;,; $11.40   \n",
    ";,; white&red   ;,; 09/15/17, Craig Chambers;,; \n",
    "$8.79 ;,; white&blue&red   ;,;09/15/17   , Peggy Bell;,; $8.65 ;,;blue   ;,; 09/15/17,   Kenneth Cunningham ;,;   $10.53;,;   green&blue   ;,; \n",
    "09/15/17   ,   Marvin Morgan;,;   $16.49;,; \n",
    "green&blue&red   ;,;   09/15/17 ,Marjorie Russell \n",
    ";,; $6.55 ;,;   green&blue&red;,;   09/15/17 ,\n",
    "Israel Cummings;,;   $11.86   ;,;black;,;  \n",
    "09/15/17,   June Doyle   ;,;   $22.29 ;,;  \n",
    "black&yellow ;,;09/15/17 , Jaime Buchanan   ;,;   \n",
    "$8.35;,;   white&black&yellow   ;,;   09/15/17,   \n",
    "Rhonda Farmer;,;$2.91 ;,;   white&black&yellow   \n",
    ";,;09/15/17, Darren Mckenzie ;,;$22.94;,;green \n",
    ";,;09/15/17,Rufus Malone;,;$4.70   ;,; green&yellow \n",
    ";,; 09/15/17   ,Hubert Miles;,;   $3.59   \n",
    ";,;green&yellow&blue;,;   09/15/17   , Joseph Bridges  ;,;$5.66   ;,; green&yellow&purple&blue \n",
    ";,;   09/15/17 , Sergio Murphy   ;,;$17.51   ;,;   \n",
    "black   ;,;   09/15/17 , Audrey Ferguson ;,; \n",
    "$5.54;,;black&blue   ;,;09/15/17 ,Edna Williams ;,; \n",
    "$17.13;,; black&blue;,;   09/15/17,   Randy Fleming;,;   $21.13 ;,;black ;,;09/15/17 ,Elisa Hart;,; $0.35   ;,; black&purple;,;   09/15/17   ,\n",
    "Ernesto Hunt ;,; $13.91   ;,;   black&purple ;,;   \n",
    "09/15/17,   Shannon Chavez   ;,;$19.26   ;,; \n",
    "yellow;,; 09/15/17   , Sammy Cain;,; $5.45;,;   \n",
    "yellow&red ;,;09/15/17 ,   Steven Reeves ;,;$5.50   \n",
    ";,;   yellow;,;   09/15/17, Ruben Jones   ;,; \n",
    "$14.56 ;,;   yellow&blue;,;09/15/17 , Essie Hansen;,;   $7.33   ;,;   yellow&blue&red\n",
    ";,; 09/15/17   ,   Rene Hardy   ;,; $20.22   ;,; \n",
    "black ;,;   09/15/17 ,   Lucy Snyder   ;,; $8.67   \n",
    ";,;black&red  ;,; 09/15/17 ,Dallas Obrien ;,;   \n",
    "$8.31;,;   black&red ;,;   09/15/17,   Stacey Payne \n",
    ";,;   $15.70   ;,;   white&black&red ;,;09/15/17   \n",
    ",   Tanya Cox   ;,;   $6.74   ;,;yellow   ;,; \n",
    "09/15/17 , Melody Moran ;,;   $30.84   \n",
    ";,;yellow&black;,;   09/15/17 , Louise Becker   ;,; \n",
    "$12.31 ;,; green&yellow&black;,;   09/15/17 ,\n",
    "Ryan Webster;,;$2.94 ;,; yellow ;,; 09/15/17 \n",
    ",Justin Blake ;,; $22.46   ;,;white&yellow ;,;   \n",
    "09/15/17,   Beverly Baldwin ;,;   $6.60;,;   \n",
    "white&yellow&black ;,;09/15/17   ,   Dale Brady   \n",
    ";,;   $6.27 ;,; yellow   ;,;09/15/17 ,Guadalupe Potter ;,;$21.12   ;,; yellow;,; 09/15/17   , \n",
    "Desiree Butler ;,;$2.10   ;,;white;,; 09/15/17  \n",
    ",Sonja Barnett ;,; $14.22 ;,;white&black;,;   \n",
    "09/15/17, Angelica Garza;,;$11.60;,;white&black   \n",
    ";,;   09/15/17   ,   Jamie Welch   ;,; $25.27   ;,; \n",
    "white&black&red ;,;09/15/17   ,   Rex Hudson   \n",
    ";,;$8.26;,;   purple;,; 09/15/17 ,   Nadine Gibbs \n",
    ";,;   $30.80 ;,;   purple&yellow   ;,; 09/15/17   , \n",
    "Hannah Pratt;,;   $22.61   ;,;   purple&yellow   \n",
    ";,;09/15/17,Gayle Richards;,;$22.19 ;,; \n",
    "green&purple&yellow ;,;09/15/17   ,Stanley Holland \n",
    ";,; $7.47   ;,; red ;,; 09/15/17 , Anna Dean;,;$5.49 ;,; yellow&red ;,;   09/15/17   ,\n",
    "Terrance Saunders ;,;   $23.70  ;,;green&yellow&red \n",
    ";,; 09/15/17 ,   Brandi Zimmerman ;,; $26.66 ;,; \n",
    "red   ;,;09/15/17 ,Guadalupe Freeman ;,; $25.95;,; \n",
    "green&red ;,;   09/15/17   ,Irving Patterson \n",
    ";,;$19.55 ;,; green&white&red ;,;   09/15/17 ,Karl Ross;,;   $15.68;,;   white ;,;   09/15/17 , Brandy Cortez ;,;$23.57;,;   white&red   ;,;09/15/17, \n",
    "Mamie Riley   ;,;$29.32;,; purple;,;09/15/17 ,Mike Thornton   ;,; $26.44 ;,;   purple   ;,; 09/15/17, \n",
    "Jamie Vaughn   ;,; $17.24;,;green ;,; 09/15/17   , \n",
    "Noah Day ;,;   $8.49   ;,;green   ;,;09/15/17   \n",
    ",Josephine Keller ;,;$13.10 ;,;green;,;   09/15/17 ,   Tracey Wolfe;,;$20.39 ;,; red   ;,; 09/15/17 ,\n",
    "Ignacio Parks;,;$14.70   ;,; white&red ;,;09/15/17 \n",
    ", Beatrice Newman ;,;$22.45   ;,;white&purple&red \n",
    ";,;   09/15/17, Andre Norris   ;,;   $28.46   ;,;   \n",
    "red;,;   09/15/17 ,   Albert Lewis ;,; $23.89;,;   \n",
    "black&red;,; 09/15/17,   Javier Bailey   ;,;   \n",
    "$24.49   ;,; black&red ;,; 09/15/17   , Everett Lyons ;,;$1.81;,;   black&red ;,; 09/15/17 ,   \n",
    "Abraham Maxwell;,; $6.81   ;,;green;,;   09/15/17   \n",
    ",   Traci Craig ;,;$0.65;,; green&yellow;,; \n",
    "09/15/17 , Jeffrey Jenkins   ;,;$26.45;,; \n",
    "green&yellow&blue   ;,;   09/15/17,   Merle Wilson \n",
    ";,;   $7.69 ;,; purple;,; 09/15/17,Janis Franklin   \n",
    ";,;$8.74   ;,; purple&black   ;,;09/15/17 ,  \n",
    "Leonard Guerrero ;,;   $1.86   ;,;yellow  \n",
    ";,;09/15/17,Lana Sanchez;,;$14.75   ;,; yellow;,;   \n",
    "09/15/17   ,Donna Ball ;,; $28.10  ;,; \n",
    "yellow&blue;,;   09/15/17   , Terrell Barber   ;,; \n",
    "$9.91   ;,; green ;,;09/15/17   ,Jody Flores;,; \n",
    "$16.34 ;,; green ;,;   09/15/17,   Daryl Herrera \n",
    ";,;$27.57;,; white;,;   09/15/17   , Miguel Mcguire;,;$5.25;,; white&blue   ;,;   09/15/17 ,   \n",
    "Rogelio Gonzalez;,; $9.51;,;   white&black&blue   \n",
    ";,;   09/15/17   ,   Lora Hammond ;,;$20.56 ;,; \n",
    "green;,;   09/15/17,Owen Ward;,; $21.64   ;,;   \n",
    "green&yellow;,;09/15/17,Malcolm Morales ;,;   \n",
    "$24.99   ;,;   green&yellow&black;,; 09/15/17 ,   \n",
    "Eric Mcdaniel ;,;$29.70;,; green ;,; 09/15/17 \n",
    ",Madeline Estrada;,;   $15.52;,;green;,;   09/15/17 \n",
    ", Leticia Manning;,;$15.70 ;,; green&purple;,; \n",
    "09/15/17 ,   Mario Wallace ;,; $12.36 ;,;green ;,; \n",
    "09/15/17,Lewis Glover;,;   $13.66   ;,;   \n",
    "green&white;,;09/15/17,   Gail Phelps   ;,;$30.52   \n",
    ";,; green&white&blue   ;,; 09/15/17 , Myrtle Morris \n",
    ";,;   $22.66   ;,; green&white&blue;,;09/15/17\"\"\"\n",
    "\n",
    "#------------------------------------------------\n",
    "# Start coding below!\n",
    "\n",
    "#Replaces ;,; with |\n",
    "daily_sales_replaced = daily_sales.replace(\";,;\", \"|\")\n",
    "#print(daily_sales_replaced)\n",
    "\n",
    "# daily_sales_replaced splitting by ,\n",
    "daily_transactions = daily_sales_replaced.split(\",\")\n",
    "#print(daily_transactions)\n",
    "\n",
    "#Splits the strings by |\n",
    "daily_transactions_split= []\n",
    "for x in daily_transactions:\n",
    "  daily_transactions_split.append(x.split(\"|\"))\n",
    "#print(daily_transactions_split)\n",
    "\n",
    "#Clean up whitespace \n",
    "transactions_clean = []\n",
    "for x in daily_transactions_split:\n",
    "  transaction_clean = []\n",
    "  for y in x:\n",
    "    transaction_clean.append(y.strip())\n",
    "  transactions_clean.append(transaction_clean)\n",
    "#print(transactions_clean)\n",
    "\n",
    "# Splitting up customers sales and thread sold into their own lists\n",
    "customers = []\n",
    "sales = []\n",
    "thread_sold = []\n",
    "for x in transactions_clean:\n",
    "    customers.append(x[0])\n",
    "    sales.append(x[1])\n",
    "    thread_sold.append(x[2])\n",
    "#print(customers)\n",
    "#print(sales)\n",
    "#print(thread_sold)\n",
    "\n",
    "#Calculating the sum of sales \n",
    "total_sales = 0\n",
    "for sale in sales:\n",
    "  total_sales = total_sales + float((sale.strip(\"$\")))\n",
    "#print(total_sales)\n",
    "\n",
    "\n",
    "#Splitting up colors &\n",
    "thread_sold_split = []\n",
    "for thread in thread_sold:\n",
    "  for color in thread.split(\"&\"):\n",
    "    thread_sold_split.append(color)\n",
    "#print(thread_sold_split)\n",
    "\n",
    "#Function that totals the amount of times the input color is in thread_sold_split\n",
    "def color_count(color):\n",
    "  count = 0\n",
    "  for colors in thread_sold_split:\n",
    "    if colors == color:\n",
    "      count += 1 \n",
    "    else:\n",
    "     continue\n",
    "  return count\n",
    "\n",
    "print(color_count(\"white\"))"
   ]
  },
  {
   "cell_type": "markdown",
   "metadata": {},
   "source": [
    "#### Modules "
   ]
  },
  {
   "cell_type": "code",
   "execution_count": 64,
   "metadata": {},
   "outputs": [
    {
     "name": "stdout",
     "output_type": "stream",
     "text": [
      "2024-04-17 08:23:46.359409\n"
     ]
    }
   ],
   "source": [
    "# Import datetime from datetime below:\n",
    "from datetime import datetime\n",
    "\n",
    "current_time = datetime.now()\n",
    "print(current_time)"
   ]
  },
  {
   "cell_type": "code",
   "execution_count": 65,
   "metadata": {},
   "outputs": [
    {
     "name": "stdout",
     "output_type": "stream",
     "text": [
      "17\n"
     ]
    }
   ],
   "source": [
    "# Import random below:\n",
    "import random\n",
    "\n",
    "# Create random_list below:\n",
    "random_list = [random.randint(1,100) for _ in range(101)]\n",
    "\n",
    "# Create randomer_number below:\n",
    "randomer_number = random.choice(random_list)\n",
    "\n",
    "# Print randomer_number below:\n",
    "print(randomer_number)"
   ]
  },
  {
   "cell_type": "code",
   "execution_count": 70,
   "metadata": {},
   "outputs": [
    {
     "name": "stdout",
     "output_type": "stream",
     "text": [
      "[195, 614, 378, 177, 885, 571, 978, 887, 866, 20, 409, 475]\n"
     ]
    },
    {
     "data": {
      "image/png": "[encoded data removed]",
      "text/plain": [
       "<Figure size 640x480 with 1 Axes>"
      ]
     },
     "metadata": {},
     "output_type": "display_data"
    }
   ],
   "source": [
    "from matplotlib import pyplot as plt\n",
    "import random\n",
    "# Add your code below:\n",
    "\n",
    "numbers_a = range(1,13)\n",
    "# Gets a sample (12 numbers) from the list range(1000)\n",
    "numbers_b = random.sample(range(1000),12)\n",
    "print(numbers_b)\n",
    "\n",
    "plt.plot(numbers_a, numbers_b)\n",
    "plt.show()"
   ]
  },
  {
   "cell_type": "code",
   "execution_count": null,
   "metadata": {},
   "outputs": [],
   "source": [
    "import codecademylib3_seaborn\n",
    "from matplotlib import pyplot as plt\n",
    "import random"
   ]
  },
  {
   "cell_type": "code",
   "execution_count": 71,
   "metadata": {},
   "outputs": [
    {
     "name": "stdout",
     "output_type": "stream",
     "text": [
      "0.89\n",
      "0.3445\n"
     ]
    }
   ],
   "source": [
    "# Import Decimal below:\n",
    "from decimal import Decimal\n",
    "\n",
    "# Fix the floating point math below:\n",
    "two_decimal_points = Decimal('0.2') + Decimal('0.69')\n",
    "print(two_decimal_points)\n",
    "\n",
    "four_decimal_points = Decimal('0.53') * Decimal('0.65')\n",
    "print(four_decimal_points)"
   ]
  },
  {
   "cell_type": "markdown",
   "metadata": {},
   "source": [
    "#### Dictionaries "
   ]
  },
  {
   "cell_type": "code",
   "execution_count": 72,
   "metadata": {},
   "outputs": [
    {
     "name": "stdout",
     "output_type": "stream",
     "text": [
      "{'living room': 21, 'kitchen': 23, 'bedroom': 20, 'pantry': 22}\n"
     ]
    }
   ],
   "source": [
    "sensors =  {\"living room\": 21, \"kitchen\": 23, \"bedroom\": 20, \"pantry\": 22}\n",
    "print(sensors)"
   ]
  },
  {
   "cell_type": "code",
   "execution_count": 73,
   "metadata": {},
   "outputs": [
    {
     "name": "stdout",
     "output_type": "stream",
     "text": [
      "{'zebras': 8, 'monkeys': 12, 'dinosaurs': 0}\n"
     ]
    }
   ],
   "source": [
    "#Create and empty dictionary \n",
    "animals_in_zoo = {}\n",
    "\n",
    "#Adding a key:value into the empty dictionary\n",
    "animals_in_zoo[\"zebras\"] = 8\n",
    "animals_in_zoo[\"monkeys\"] = 12\n",
    "animals_in_zoo[\"dinosaurs\"] = 0\n",
    "\n",
    "print(animals_in_zoo)"
   ]
  },
  {
   "cell_type": "code",
   "execution_count": 74,
   "metadata": {},
   "outputs": [
    {
     "name": "stdout",
     "output_type": "stream",
     "text": [
      "{'teraCoder': 9018293, 'proProgrammer': 119238, 'theLooper': 138475, 'stringQueen': 85739}\n"
     ]
    }
   ],
   "source": [
    "user_ids = {\"teraCoder\": 9018293, \"proProgrammer\": 119238}\n",
    "\n",
    "#Adding multiple key:values to a dictionary \n",
    "user_ids.update({\"theLooper\": 138475, \"stringQueen\": 85739})\n",
    "print(user_ids)"
   ]
  },
  {
   "cell_type": "code",
   "execution_count": 75,
   "metadata": {},
   "outputs": [
    {
     "name": "stdout",
     "output_type": "stream",
     "text": [
      "{'Best Picture': 'Moonlight', 'Best Actor': 'Casey Affleck', 'Best Actress': 'Emma Stone', 'Animated Feature': 'Zootopia', 'Supporting Actress': 'Viola Davis'}\n"
     ]
    }
   ],
   "source": [
    "oscar_winners = {\"Best Picture\": \"La La Land\", \"Best Actor\": \"Casey Affleck\", \"Best Actress\": \"Emma Stone\", \"Animated Feature\": \"Zootopia\"}\n",
    "\n",
    "oscar_winners[\"Supporting Actress\"] = \"Viola Davis\"\n",
    "\n",
    "#Overwriting the value stored in best picture \n",
    "oscar_winners[\"Best Picture\"] = \"Moonlight\"\n",
    "print(oscar_winners)"
   ]
  },
  {
   "cell_type": "code",
   "execution_count": 80,
   "metadata": {},
   "outputs": [
    {
     "name": "stdout",
     "output_type": "stream",
     "text": [
      "<zip object at 0x000001F358FFCB40>\n",
      "{'espresso': 64, 'chai': 40, 'decaf': 0, 'drip': 120}\n"
     ]
    }
   ],
   "source": [
    "drinks = [\"espresso\", \"chai\", \"decaf\", \"drip\"]\n",
    "caffeine = [64, 40, 0, 120]\n",
    "\n",
    "#Created a merged tuple of drinks and caffeine\n",
    "zipped_drinks = zip(drinks, caffeine)\n",
    "print(zipped_drinks)\n",
    "#Created a dictionary from the tuple \n",
    "drinks_to_caffeine = {key:value for key, value in zipped_drinks}\n",
    "print(drinks_to_caffeine)"
   ]
  },
  {
   "cell_type": "code",
   "execution_count": 81,
   "metadata": {},
   "outputs": [
    {
     "name": "stdout",
     "output_type": "stream",
     "text": [
      "{'Like a Rolling Stone': 78, 'Satisfaction': 29, 'Imagine': 44, \"What's Going On\": 21, 'Respect': 89, 'Good Vibrations': 5}\n",
      "{'The Best Songs': {'Like a Rolling Stone': 78, 'Satisfaction': 29, 'Imagine': 44, \"What's Going On\": 21, 'Respect': 94, 'Good Vibrations': 5, 'Purple Haze': 1}, 'Sunday Feelings': {}}\n"
     ]
    }
   ],
   "source": [
    "songs = [\"Like a Rolling Stone\", \"Satisfaction\", \"Imagine\", \"What's Going On\", \"Respect\", \"Good Vibrations\"]\n",
    "playcounts = [78, 29, 44, 21, 89, 5]\n",
    "\n",
    "#Using Dict comprehension to create a dictionary out of songs/playcounts\n",
    "plays = {key:value for key,value in zip(songs,playcounts)}\n",
    "print(plays)\n",
    "\n",
    "#Adding to plays\n",
    "plays[\"Purple Haze\"] = 1\n",
    "plays[\"Respect\"] = 94\n",
    "\n",
    "\n",
    "#Creating dictionary one key has a value of another dictionary and the other key has an empty dictionary value \n",
    "library = {\"The Best Songs\": plays, \"Sunday Feelings\": {}}\n",
    "print(library)"
   ]
  },
  {
   "cell_type": "code",
   "execution_count": null,
   "metadata": {},
   "outputs": [],
   "source": [
    "#Accessing values by providig the key \n",
    "zodiac_elements = {\"water\": [\"Cancer\", \"Scorpio\", \"Pisces\"], \"fire\": [\"Aries\", \"Leo\", \"Sagittarius\"], \"earth\": [\"Taurus\", \"Virgo\", \"Capricorn\"], \"air\":[\"Gemini\", \"Libra\", \"Aquarius\"]}\n",
    "\n",
    "print(zodiac_elements[\"earth\"])\n",
    "print(zodiac_elements[\"fire\"])"
   ]
  },
  {
   "cell_type": "code",
   "execution_count": 2,
   "metadata": {},
   "outputs": [
    {
     "name": "stdout",
     "output_type": "stream",
     "text": [
      "Not valid\n",
      "Not a Zodiac lement\n"
     ]
    }
   ],
   "source": [
    "#How to check if an element exists in a dictionary \n",
    "zodiac_elements = {\"water\": [\"Cancer\", \"Scorpio\", \"Pisces\"], \"fire\": [\"Aries\", \"Leo\", \"Sagittarius\"], \"earth\": [\"Taurus\", \"Virgo\", \"Capricorn\"], \"air\":[\"Gemini\", \"Libra\", \"Aquarius\"]}\n",
    "\n",
    "if \"energy\" in zodiac_elements:\n",
    "    print(zodiac_elements[\"energy\"])\n",
    "else:\n",
    "  print(\"Not valid\")\n",
    "\n",
    "zodiac_elements[\"energy\"] = \"Not a Zodiac lement\"\n",
    "\n",
    "if \"energy\" in zodiac_elements:\n",
    "    print(zodiac_elements[\"energy\"])"
   ]
  },
  {
   "cell_type": "code",
   "execution_count": 3,
   "metadata": {},
   "outputs": [
    {
     "name": "stdout",
     "output_type": "stream",
     "text": [
      "100019\n",
      "100000\n"
     ]
    }
   ],
   "source": [
    "user_ids = {\"teraCoder\": 100019, \"pythonGuy\": 182921, \"samTheJavaMaam\": 123112, \"lyleLoop\": 102931, \"keysmithKeith\": 129384}\n",
    "\n",
    "#Searches for teraCoder if its not found it will assign 100000 to tc_id\n",
    "tc_id = user_ids.get(\"teraCoder\", 100000)\n",
    "print(tc_id)\n",
    "\n",
    "\n",
    "stack_id = user_ids.get(\"superStackSmash\", 100000)\n",
    "print(stack_id)"
   ]
  },
  {
   "cell_type": "code",
   "execution_count": 4,
   "metadata": {},
   "outputs": [
    {
     "name": "stdout",
     "output_type": "stream",
     "text": [
      "{'health potion': 10, 'cake of the cure': 5, 'green elixir': 20, 'strength sandwich': 25}\n",
      "65\n"
     ]
    }
   ],
   "source": [
    "available_items = {\"health potion\": 10, \"cake of the cure\": 5, \"green elixir\": 20, \"strength sandwich\": 25, \"stamina grains\": 15, \"power stew\": 30}\n",
    "health_points = 20\n",
    "\n",
    "#Using pop to find and delete records from a dictionary\n",
    "health_points += available_items.pop(\"stamina grains\",0)\n",
    "health_points += available_items.pop(\"power stew\",0)\n",
    "health_points += available_items.pop(\"mystic bread\",0)\n",
    "\n",
    "print(available_items)\n",
    "print(health_points)"
   ]
  },
  {
   "cell_type": "code",
   "execution_count": 5,
   "metadata": {},
   "outputs": [
    {
     "name": "stdout",
     "output_type": "stream",
     "text": [
      "dict_keys(['teraCoder', 'pythonGuy', 'samTheJavaMaam', 'lyleLoop', 'keysmithKeith'])\n",
      "dict_keys(['functions', 'syntax', 'control flow', 'loops', 'lists', 'classes', 'dictionaries'])\n"
     ]
    }
   ],
   "source": [
    "user_ids = {\"teraCoder\": 100019, \"pythonGuy\": 182921, \"samTheJavaMaam\": 123112, \"lyleLoop\": 102931, \"keysmithKeith\": 129384}\n",
    "num_exercises = {\"functions\": 10, \"syntax\": 13, \"control flow\": 15, \"loops\": 22, \"lists\": 19, \"classes\": 18, \"dictionaries\": 18}\n",
    "\n",
    "#Creates a dict keys object cannot be changed \n",
    "users = user_ids.keys()\n",
    "lessons = num_exercises.keys()\n",
    "\n",
    "print(users)\n",
    "print(lessons)"
   ]
  },
  {
   "cell_type": "code",
   "execution_count": 6,
   "metadata": {},
   "outputs": [
    {
     "name": "stdout",
     "output_type": "stream",
     "text": [
      "115\n"
     ]
    }
   ],
   "source": [
    "num_exercises = {\"functions\": 10, \"syntax\": 13, \"control flow\": 15, \"loops\": 22, \"lists\": 19, \"classes\": 18, \"dictionaries\": 18}\n",
    "\n",
    "\n",
    "total_exercises = 0\n",
    "\n",
    "for ex in num_exercises.values():\n",
    "  total_exercises += ex\n",
    "\n",
    "\n",
    "print(total_exercises)"
   ]
  },
  {
   "cell_type": "code",
   "execution_count": 7,
   "metadata": {},
   "outputs": [
    {
     "name": "stdout",
     "output_type": "stream",
     "text": [
      "Women make up 28 percent of CEOs.\n",
      "Women make up 9 percent of Engineering Managers.\n",
      "Women make up 58 percent of Pharmacists.\n",
      "Women make up 40 percent of Physicians.\n",
      "Women make up 37 percent of Lawyers.\n",
      "Women make up 9 percent of Aerospace Engineers.\n"
     ]
    }
   ],
   "source": [
    "pct_women_in_occupation = {\"CEO\": 28, \"Engineering Manager\": 9, \"Pharmacist\": 58, \"Physician\": 40, \"Lawyer\": 37, \"Aerospace Engineer\": 9}\n",
    "\n",
    "\n",
    "for position, value in pct_women_in_occupation.items():\n",
    "  print(\"Women make up \" + str(value) + \" percent of \" + position + \"s.\")"
   ]
  },
  {
   "cell_type": "code",
   "execution_count": 8,
   "metadata": {},
   "outputs": [
    {
     "name": "stdout",
     "output_type": "stream",
     "text": [
      "Your past is the Death card.\n",
      "Your present is the The Fool card.\n",
      "Your future is the Wheel of Fortune card.\n"
     ]
    }
   ],
   "source": [
    "tarot = { 1:\t\"The Magician\", 2:\t\"The High Priestess\", 3:\t\"The Empress\", 4:\t\"The Emperor\", 5:\t\"The Hierophant\", 6:\t\"The Lovers\", 7:\t\"The Chariot\", 8:\t\"Strength\", 9:\t\"The Hermit\", 10:\t\"Wheel of Fortune\", 11:\t\"Justice\", 12:\t\"The Hanged Man\", 13:\t\"Death\", 14:\t\"Temperance\", 15:\t\"The Devil\", 16:\t\"The Tower\", 17:\t\"The Star\", 18:\t\"The Moon\", 19:\t\"The Sun\", 20:\t\"Judgement\", 21:\t\"The World\", 22: \"The Fool\"}\n",
    "\n",
    "#Empty Dictionary \n",
    "spread = {}\n",
    "\n",
    "#Adding to dictionary\n",
    "spread[\"past\"] = tarot.pop(13)\n",
    "spread[\"present\"] = tarot.pop(22)\n",
    "spread[\"future\"] = tarot.pop(10)\n",
    "\n",
    "for key, value in spread.items():\n",
    "  print(\"Your \" + key + \" is the \" + str(value) + \" card.\")"
   ]
  },
  {
   "cell_type": "code",
   "execution_count": 9,
   "metadata": {},
   "outputs": [
    {
     "name": "stdout",
     "output_type": "stream",
     "text": [
      "15\n",
      "{'player1': 29, 'wordNerd': 32, 'Lexi Con': 31, 'Prof Reader': 31}\n"
     ]
    }
   ],
   "source": [
    "letters = [\"A\", \"B\", \"C\", \"D\", \"E\", \"F\", \"G\", \"H\", \"I\", \"J\", \"K\", \"L\", \"M\", \"N\", \"O\", \"P\", \"Q\", \"R\", \"S\", \"T\", \"U\", \"V\", \"W\", \"X\", \"Y\", \"Z\"]\n",
    "points = [1, 3, 3, 2, 1, 4, 2, 4, 1, 8, 5, 1, 3, 4, 1, 3, 10, 1, 1, 1, 1, 4, 4, 8, 4, 10]\n",
    "\n",
    "#Merges letters to their assigned points\n",
    "letter_to_point = {key:value for key,value in zip(letters,points)}\n",
    "letter_to_point[\" \"] = 0\n",
    "\n",
    "#Calculates the score of any inputted word \n",
    "def score_word(word):\n",
    "  point_total = 0\n",
    "  for character in word:\n",
    "    point_total += letter_to_point.get(character,0)\n",
    "  return point_total\n",
    "\n",
    "#Test of score_word\n",
    "brownie_points = score_word(\"BROWNIE\")\n",
    "print(brownie_points)\n",
    "\n",
    "#Given the players and their played words calculate their score \n",
    "player_to_words = {\"player1\": [\"BLUE\", \"TENNIS\", \"EXIT\"], \"wordNerd\":[\"EARTH\", \"EYES\", \"MACHINE\"],\"Lexi Con\":[\"ERASER\", \"BELLY\", \"HUSKY\"], \"Prof Reader\": [\"ZAP\", \"COMA\", \"PERIOD\"] }\n",
    "player_to_points = {}\n",
    "\n",
    "for player, words in player_to_words.items():\n",
    "  player_points = 0\n",
    "  for word in words:\n",
    "    player_points += score_word(word)\n",
    "  player_to_points[player] = player_points\n",
    "\n",
    "print(player_to_points)"
   ]
  },
  {
   "cell_type": "markdown",
   "metadata": {},
   "source": [
    "#### Files"
   ]
  },
  {
   "cell_type": "code",
   "execution_count": null,
   "metadata": {},
   "outputs": [],
   "source": [
    "# Reads in a file named welcome.txt and stores it into text_data\n",
    "with open(\"welcome.txt\") as text_file:\n",
    "  text_data = text_file.read()\n",
    "  \n",
    "print(text_data)"
   ]
  },
  {
   "cell_type": "code",
   "execution_count": null,
   "metadata": {},
   "outputs": [],
   "source": [
    "# If you want to print out the lines of text from a file indvidually this iterates through the text and reads the\n",
    "# lines on their own \n",
    "with open(\"how_many_lines.txt\") as lines_doc:\n",
    "  for line in lines_doc.readlines():\n",
    "    print(line)"
   ]
  },
  {
   "cell_type": "code",
   "execution_count": null,
   "metadata": {},
   "outputs": [],
   "source": [
    "# Will grab the first line of a text file \n",
    "with open(\"just_the_first.txt\") as first_line_doc:\n",
    "  first_line = first_line_doc.readline()\n",
    "\n",
    "print(first_line)"
   ]
  },
  {
   "cell_type": "code",
   "execution_count": null,
   "metadata": {},
   "outputs": [],
   "source": [
    "# Opens a file bad_bands in w (write) mode and saves the text \"Marv\" if a file already \n",
    "# Exists with the same name it will be completely overwritten \n",
    "with open('bad_bands.txt', 'w') as bad_bands_doc:\n",
    "  bad_bands_doc.write(\"Marv\")"
   ]
  },
  {
   "cell_type": "code",
   "execution_count": null,
   "metadata": {},
   "outputs": [],
   "source": [
    "# Instead of completely overwriting a file you can append to it (a) mode \n",
    "with open(\"cool_dogs.txt\", \"a\") as cool_dogs_file:\n",
    "  cool_dogs_file.write(\"Air Buddy\\n\")"
   ]
  },
  {
   "cell_type": "code",
   "execution_count": 16,
   "metadata": {},
   "outputs": [],
   "source": [
    "# Older syntax that can be used to write to a file this requires a close() line which is automatically taken \n",
    "# care of when using with open syntax\n",
    "fun_cities_file = open('fun_cities.txt', 'a')\n",
    "\n",
    "# We can now append a line to \"fun_cities\".\n",
    "fun_cities_file.write(\"Montréal\")\n",
    "\n",
    "# But we need to remember to close the file\n",
    "fun_cities_file.close()"
   ]
  },
  {
   "cell_type": "code",
   "execution_count": null,
   "metadata": {},
   "outputs": [],
   "source": [
    "# Reads in and prints out the contents of a csv file \n",
    "with open(\"logger.csv\") as log_csv_file:\n",
    "  text_data = log_csv_file.read()\n",
    "\n",
    "print(text_data)"
   ]
  },
  {
   "cell_type": "code",
   "execution_count": null,
   "metadata": {},
   "outputs": [],
   "source": [
    "# Prints out the contents in row Cool Fact \n",
    "import csv\n",
    "\n",
    "with open(\"cool_csv.csv\") as cool_csv_file:\n",
    "  cool_csv_dict = csv.DictReader(cool_csv_file)\n",
    "  for row in cool_csv_dict:\n",
    "    print(row['Cool Fact'])"
   ]
  },
  {
   "cell_type": "code",
   "execution_count": null,
   "metadata": {},
   "outputs": [],
   "source": [
    "#Goes through books csv adds all isbn rows to a list \n",
    "import csv\n",
    "\n",
    "with open(\"books.csv\") as books_csv:\n",
    "  books_reader = csv.DictReader(books_csv, delimiter=\"@\")\n",
    "  isbn_list= []\n",
    "  for row in books_reader:\n",
    "    isbn_list.append(row[\"ISBN\"])"
   ]
  },
  {
   "cell_type": "code",
   "execution_count": 18,
   "metadata": {},
   "outputs": [],
   "source": [
    "import csv\n",
    "\n",
    "access_log = [{'time': '08:39:37', 'limit': 844404, 'address': '1.227.124.181'}, {'time': '13:13:35', 'limit': 543871, 'address': '198.51.139.193'}, {'time': '19:40:45', 'limit': 3021, 'address': '172.1.254.208'}, {'time': '18:57:16', 'limit': 67031769, 'address': '172.58.247.219'}, {'time': '21:17:13', 'limit': 9083, 'address': '124.144.20.113'}, {'time': '23:34:17', 'limit': 65913, 'address': '203.236.149.220'}, {'time': '13:58:05', 'limit': 1541474, 'address': '192.52.206.76'}, {'time': '10:52:00', 'limit': 11465607, 'address': '104.47.149.93'}, {'time': '14:56:12', 'limit': 109, 'address': '192.31.185.7'}, {'time': '18:56:35', 'limit': 6207, 'address': '2.228.164.197'}]\n",
    "fields = ['time', 'address', 'limit']\n",
    "\n",
    "\n",
    "# Creates a csv from a pre existing list \n",
    "with open('logger.csv', 'w') as logger_csv:\n",
    "  log_writer = csv.DictWriter(logger_csv, fields)\n",
    "\n",
    "  log_writer.writeheader()\n",
    "  for row in access_log:\n",
    "    log_writer.writerow(row)"
   ]
  },
  {
   "cell_type": "code",
   "execution_count": null,
   "metadata": {},
   "outputs": [],
   "source": [
    "'''\n",
    "{\n",
    "  \"text\": \"Now that's JSON!\",\n",
    "  \"secret text\": \"Now that's some _serious_ JSON!\"\n",
    "}\n",
    "Imports the following JSON File and prints out \"Now that's JSON!\"\n",
    "'''\n",
    "import json\n",
    "\n",
    "with open(\"message.json\") as message_json:\n",
    "  message = json.load(message_json)\n",
    "\n",
    "print(message[\"text\"])"
   ]
  },
  {
   "cell_type": "code",
   "execution_count": 19,
   "metadata": {},
   "outputs": [],
   "source": [
    "#Creates a JSON File from data_payload \n",
    "import json\n",
    "data_payload = [\n",
    "  {'interesting message': 'What is JSON? A web application\\'s little pile of secrets.',\n",
    "   'follow up': 'But enough talk!'}\n",
    "]\n",
    "\n",
    "with open(\"data.json\", \"w\") as data_json:\n",
    "  json.dump(data_payload, data_json)"
   ]
  },
  {
   "cell_type": "code",
   "execution_count": null,
   "metadata": {},
   "outputs": [],
   "source": [
    "#Follows the Hacking The Fender Project \n",
    "#Importing CSV and json Module\n",
    "import csv\n",
    "import json\n",
    "\n",
    "#List of compromised users \n",
    "compromised_users = []\n",
    "\n",
    "#Opens passwords.csv and pulls the usernames of compromised users into the \n",
    "#compromised_users list \n",
    "with open(\"passwords.csv\") as password_file:\n",
    "  password_csv = csv.DictReader(password_file)\n",
    "  for password_row in password_csv:\n",
    "    #print(password_row[\"Username\"])\n",
    "    compromised_users.append(password_row[\"Username\"])\n",
    "\n",
    "#Creates a text file of the compromised_users list\n",
    "with open(\"compromised_users.txt\", \"w\") as compromised_user_file:\n",
    "  for user in compromised_users:\n",
    "    compromised_user_file.write(user +\"\\n\")\n",
    "  \n",
    "#Writing a message to a JSON File \n",
    "with open(\"boss_message.json\", \"w\") as boss_message:\n",
    "  boss_message_dict = [{\n",
    "    'recipient':'The Boss',\n",
    "    'message':'Mission Success'}]\n",
    "  json.dump(boss_message_dict, boss_message)\n",
    "\n",
    "#Created a file storing the string slass_null_sig \n",
    "with open(\"new_passwords.csv\", \"w\") as new_passwords_obj:\n",
    "  slash_null_sig = \"\"\"\n",
    "    _  _     ___   __  ____             \n",
    "  / )( \\   / __) /  \\(_  _)            \n",
    "  ) \\/ (  ( (_ \\(  O ) )(              \n",
    "  \\____/   \\___/ \\__/ (__)             \n",
    "   _  _   __    ___  __ _  ____  ____  \n",
    "  / )( \\ / _\\  / __)(  / )(  __)(    \\ \n",
    "  ) __ (/    \\( (__  )  (  ) _)  ) D ( \n",
    "  \\_)(_/\\_/\\_/ \\___)(__\\_)(____)(____/ \n",
    "         ____  __     __   ____  _  _ \n",
    "   ___   / ___)(  )   / _\\ / ___)/ )( \\\n",
    "  (___)  \\___ \\/ (_/\\/    \\\\___ \\) __ (\n",
    "        (____/\\____/\\_/\\_/(____/\\_)(_/\n",
    "  __ _  _  _  __    __                \n",
    "  (  ( \\/ )( \\(  )  (  )               \n",
    "  /    /) \\/ (/ (_/\\/ (_/\\             \n",
    "  \\_)__)\\____/\\____/\\____/\n",
    "  \"\"\"\n",
    "  new_passwords_obj.write(slash_null_sig)"
   ]
  },
  {
   "cell_type": "markdown",
   "metadata": {},
   "source": [
    "#### Classes"
   ]
  },
  {
   "cell_type": "code",
   "execution_count": 20,
   "metadata": {},
   "outputs": [
    {
     "name": "stdout",
     "output_type": "stream",
     "text": [
      "<class 'int'>\n",
      "<class 'dict'>\n",
      "<class 'list'>\n"
     ]
    }
   ],
   "source": [
    "print(type(5))\n",
    "\n",
    "my_dict = {}\n",
    "print(type(my_dict))\n",
    "\n",
    "my_list = []\n",
    "print(type(my_list))"
   ]
  },
  {
   "cell_type": "code",
   "execution_count": 22,
   "metadata": {},
   "outputs": [
    {
     "name": "stdout",
     "output_type": "stream",
     "text": [
      "<class '__main__.Facade'>\n"
     ]
    }
   ],
   "source": [
    "# Created an empty class\n",
    "class Facade:\n",
    "  pass\n",
    "\n",
    "# Instantiating the Class \n",
    "facade_1 = Facade()\n",
    "\n",
    "# Storing and printing the type of a class\n",
    "facade_1_type = type(facade_1)\n",
    "print(facade_1_type)"
   ]
  },
  {
   "cell_type": "code",
   "execution_count": 23,
   "metadata": {},
   "outputs": [
    {
     "name": "stdout",
     "output_type": "stream",
     "text": [
      "113.04\n"
     ]
    }
   ],
   "source": [
    "#Class Circle\n",
    "class Circle:\n",
    "  pi = 3.14\n",
    "  #Method (Function) that calculates area when the class circle is called\n",
    "  def area(self,radius):\n",
    "    return self.pi * radius ** 2\n",
    "\n",
    "# Created an instanse of the Circle Class\n",
    "circle = Circle()\n",
    "\n",
    "# Calling the .area method within the Circle Class \n",
    "pizza_area = circle.area(12/2)\n",
    "teaching_table_area = circle.area(36/2)\n",
    "round_room_area = circle.area(11460/2)\n",
    "\n",
    "print(pizza_area)"
   ]
  },
  {
   "cell_type": "code",
   "execution_count": null,
   "metadata": {},
   "outputs": [],
   "source": []
  },
  {
   "cell_type": "code",
   "execution_count": null,
   "metadata": {},
   "outputs": [],
   "source": []
  }
 ],
 "metadata": {
  "kernelspec": {
   "display_name": "Python 3 (ipykernel)",
   "language": "python",
   "name": "python3"
  },
  "language_info": {
   "codemirror_mode": {
    "name": "ipython",
    "version": 3
   },
   "file_extension": ".py",
   "mimetype": "text/x-python",
   "name": "python",
   "nbconvert_exporter": "python",
   "pygments_lexer": "ipython3",
   "version": "3.10.9"
  }
 },
 "nbformat": 4,
 "nbformat_minor": 2
}
